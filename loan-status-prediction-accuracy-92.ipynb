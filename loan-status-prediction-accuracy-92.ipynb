{
 "cells": [
  {
   "cell_type": "code",
   "execution_count": 1,
   "id": "c5d73946",
   "metadata": {
    "execution": {
     "iopub.execute_input": "2024-04-21T06:21:43.577042Z",
     "iopub.status.busy": "2024-04-21T06:21:43.576549Z",
     "iopub.status.idle": "2024-04-21T06:21:45.994377Z",
     "shell.execute_reply": "2024-04-21T06:21:45.992975Z"
    },
    "papermill": {
     "duration": 2.448936,
     "end_time": "2024-04-21T06:21:45.997165",
     "exception": false,
     "start_time": "2024-04-21T06:21:43.548229",
     "status": "completed"
    },
    "tags": []
   },
   "outputs": [],
   "source": [
    "import pandas as pd \n",
    "import numpy as np \n",
    "import matplotlib.pyplot as plt\n",
    "import seaborn as sns \n",
    "import warnings\n",
    "warnings.filterwarnings(\"ignore\")\n",
    "plt.style.use(\"ggplot\")"
   ]
  },
  {
   "cell_type": "markdown",
   "id": "816cfdbb",
   "metadata": {
    "papermill": {
     "duration": 0.023464,
     "end_time": "2024-04-21T06:21:46.047055",
     "exception": false,
     "start_time": "2024-04-21T06:21:46.023591",
     "status": "completed"
    },
    "tags": []
   },
   "source": [
    "### Reading the data "
   ]
  },
  {
   "cell_type": "code",
   "execution_count": 2,
   "id": "6bbab161",
   "metadata": {
    "execution": {
     "iopub.execute_input": "2024-04-21T06:21:46.097058Z",
     "iopub.status.busy": "2024-04-21T06:21:46.095773Z",
     "iopub.status.idle": "2024-04-21T06:21:46.118837Z",
     "shell.execute_reply": "2024-04-21T06:21:46.117744Z"
    },
    "papermill": {
     "duration": 0.050903,
     "end_time": "2024-04-21T06:21:46.121495",
     "exception": false,
     "start_time": "2024-04-21T06:21:46.070592",
     "status": "completed"
    },
    "tags": []
   },
   "outputs": [],
   "source": [
    "df = pd.read_csv(\"/kaggle/input/loan-status-prediction/loan_data.csv\")"
   ]
  },
  {
   "cell_type": "code",
   "execution_count": 3,
   "id": "231ad185",
   "metadata": {
    "execution": {
     "iopub.execute_input": "2024-04-21T06:21:46.172342Z",
     "iopub.status.busy": "2024-04-21T06:21:46.171592Z",
     "iopub.status.idle": "2024-04-21T06:21:46.195093Z",
     "shell.execute_reply": "2024-04-21T06:21:46.194252Z"
    },
    "papermill": {
     "duration": 0.051579,
     "end_time": "2024-04-21T06:21:46.197064",
     "exception": false,
     "start_time": "2024-04-21T06:21:46.145485",
     "status": "completed"
    },
    "tags": []
   },
   "outputs": [
    {
     "data": {
      "text/html": [
       "<div>\n",
       "<style scoped>\n",
       "    .dataframe tbody tr th:only-of-type {\n",
       "        vertical-align: middle;\n",
       "    }\n",
       "\n",
       "    .dataframe tbody tr th {\n",
       "        vertical-align: top;\n",
       "    }\n",
       "\n",
       "    .dataframe thead th {\n",
       "        text-align: right;\n",
       "    }\n",
       "</style>\n",
       "<table border=\"1\" class=\"dataframe\">\n",
       "  <thead>\n",
       "    <tr style=\"text-align: right;\">\n",
       "      <th></th>\n",
       "      <th>Loan_ID</th>\n",
       "      <th>Gender</th>\n",
       "      <th>Married</th>\n",
       "      <th>Dependents</th>\n",
       "      <th>Education</th>\n",
       "      <th>Self_Employed</th>\n",
       "      <th>ApplicantIncome</th>\n",
       "      <th>CoapplicantIncome</th>\n",
       "      <th>LoanAmount</th>\n",
       "      <th>Loan_Amount_Term</th>\n",
       "      <th>Credit_History</th>\n",
       "      <th>Property_Area</th>\n",
       "      <th>Loan_Status</th>\n",
       "    </tr>\n",
       "  </thead>\n",
       "  <tbody>\n",
       "    <tr>\n",
       "      <th>0</th>\n",
       "      <td>LP001003</td>\n",
       "      <td>Male</td>\n",
       "      <td>Yes</td>\n",
       "      <td>1</td>\n",
       "      <td>Graduate</td>\n",
       "      <td>No</td>\n",
       "      <td>4583</td>\n",
       "      <td>1508.0</td>\n",
       "      <td>128.0</td>\n",
       "      <td>360.0</td>\n",
       "      <td>1.0</td>\n",
       "      <td>Rural</td>\n",
       "      <td>N</td>\n",
       "    </tr>\n",
       "    <tr>\n",
       "      <th>1</th>\n",
       "      <td>LP001005</td>\n",
       "      <td>Male</td>\n",
       "      <td>Yes</td>\n",
       "      <td>0</td>\n",
       "      <td>Graduate</td>\n",
       "      <td>Yes</td>\n",
       "      <td>3000</td>\n",
       "      <td>0.0</td>\n",
       "      <td>66.0</td>\n",
       "      <td>360.0</td>\n",
       "      <td>1.0</td>\n",
       "      <td>Urban</td>\n",
       "      <td>Y</td>\n",
       "    </tr>\n",
       "    <tr>\n",
       "      <th>2</th>\n",
       "      <td>LP001006</td>\n",
       "      <td>Male</td>\n",
       "      <td>Yes</td>\n",
       "      <td>0</td>\n",
       "      <td>Not Graduate</td>\n",
       "      <td>No</td>\n",
       "      <td>2583</td>\n",
       "      <td>2358.0</td>\n",
       "      <td>120.0</td>\n",
       "      <td>360.0</td>\n",
       "      <td>1.0</td>\n",
       "      <td>Urban</td>\n",
       "      <td>Y</td>\n",
       "    </tr>\n",
       "    <tr>\n",
       "      <th>3</th>\n",
       "      <td>LP001008</td>\n",
       "      <td>Male</td>\n",
       "      <td>No</td>\n",
       "      <td>0</td>\n",
       "      <td>Graduate</td>\n",
       "      <td>No</td>\n",
       "      <td>6000</td>\n",
       "      <td>0.0</td>\n",
       "      <td>141.0</td>\n",
       "      <td>360.0</td>\n",
       "      <td>1.0</td>\n",
       "      <td>Urban</td>\n",
       "      <td>Y</td>\n",
       "    </tr>\n",
       "    <tr>\n",
       "      <th>4</th>\n",
       "      <td>LP001013</td>\n",
       "      <td>Male</td>\n",
       "      <td>Yes</td>\n",
       "      <td>0</td>\n",
       "      <td>Not Graduate</td>\n",
       "      <td>No</td>\n",
       "      <td>2333</td>\n",
       "      <td>1516.0</td>\n",
       "      <td>95.0</td>\n",
       "      <td>360.0</td>\n",
       "      <td>1.0</td>\n",
       "      <td>Urban</td>\n",
       "      <td>Y</td>\n",
       "    </tr>\n",
       "  </tbody>\n",
       "</table>\n",
       "</div>"
      ],
      "text/plain": [
       "    Loan_ID Gender Married Dependents     Education Self_Employed  \\\n",
       "0  LP001003   Male     Yes          1      Graduate            No   \n",
       "1  LP001005   Male     Yes          0      Graduate           Yes   \n",
       "2  LP001006   Male     Yes          0  Not Graduate            No   \n",
       "3  LP001008   Male      No          0      Graduate            No   \n",
       "4  LP001013   Male     Yes          0  Not Graduate            No   \n",
       "\n",
       "   ApplicantIncome  CoapplicantIncome  LoanAmount  Loan_Amount_Term  \\\n",
       "0             4583             1508.0       128.0             360.0   \n",
       "1             3000                0.0        66.0             360.0   \n",
       "2             2583             2358.0       120.0             360.0   \n",
       "3             6000                0.0       141.0             360.0   \n",
       "4             2333             1516.0        95.0             360.0   \n",
       "\n",
       "   Credit_History Property_Area Loan_Status  \n",
       "0             1.0         Rural           N  \n",
       "1             1.0         Urban           Y  \n",
       "2             1.0         Urban           Y  \n",
       "3             1.0         Urban           Y  \n",
       "4             1.0         Urban           Y  "
      ]
     },
     "execution_count": 3,
     "metadata": {},
     "output_type": "execute_result"
    }
   ],
   "source": [
    "df.head()"
   ]
  },
  {
   "cell_type": "code",
   "execution_count": 4,
   "id": "8f6f737c",
   "metadata": {
    "execution": {
     "iopub.execute_input": "2024-04-21T06:21:46.251004Z",
     "iopub.status.busy": "2024-04-21T06:21:46.250358Z",
     "iopub.status.idle": "2024-04-21T06:21:46.256321Z",
     "shell.execute_reply": "2024-04-21T06:21:46.255162Z"
    },
    "papermill": {
     "duration": 0.034126,
     "end_time": "2024-04-21T06:21:46.258424",
     "exception": false,
     "start_time": "2024-04-21T06:21:46.224298",
     "status": "completed"
    },
    "tags": []
   },
   "outputs": [
    {
     "data": {
      "text/plain": [
       "(381, 13)"
      ]
     },
     "execution_count": 4,
     "metadata": {},
     "output_type": "execute_result"
    }
   ],
   "source": [
    "df.shape"
   ]
  },
  {
   "cell_type": "code",
   "execution_count": 5,
   "id": "aab9026e",
   "metadata": {
    "execution": {
     "iopub.execute_input": "2024-04-21T06:21:46.310043Z",
     "iopub.status.busy": "2024-04-21T06:21:46.309362Z",
     "iopub.status.idle": "2024-04-21T06:21:46.339185Z",
     "shell.execute_reply": "2024-04-21T06:21:46.338398Z"
    },
    "papermill": {
     "duration": 0.059236,
     "end_time": "2024-04-21T06:21:46.342083",
     "exception": false,
     "start_time": "2024-04-21T06:21:46.282847",
     "status": "completed"
    },
    "tags": []
   },
   "outputs": [
    {
     "name": "stdout",
     "output_type": "stream",
     "text": [
      "<class 'pandas.core.frame.DataFrame'>\n",
      "RangeIndex: 381 entries, 0 to 380\n",
      "Data columns (total 13 columns):\n",
      " #   Column             Non-Null Count  Dtype  \n",
      "---  ------             --------------  -----  \n",
      " 0   Loan_ID            381 non-null    object \n",
      " 1   Gender             376 non-null    object \n",
      " 2   Married            381 non-null    object \n",
      " 3   Dependents         373 non-null    object \n",
      " 4   Education          381 non-null    object \n",
      " 5   Self_Employed      360 non-null    object \n",
      " 6   ApplicantIncome    381 non-null    int64  \n",
      " 7   CoapplicantIncome  381 non-null    float64\n",
      " 8   LoanAmount         381 non-null    float64\n",
      " 9   Loan_Amount_Term   370 non-null    float64\n",
      " 10  Credit_History     351 non-null    float64\n",
      " 11  Property_Area      381 non-null    object \n",
      " 12  Loan_Status        381 non-null    object \n",
      "dtypes: float64(4), int64(1), object(8)\n",
      "memory usage: 38.8+ KB\n"
     ]
    }
   ],
   "source": [
    "df.info()"
   ]
  },
  {
   "cell_type": "code",
   "execution_count": 6,
   "id": "b9354b9c",
   "metadata": {
    "execution": {
     "iopub.execute_input": "2024-04-21T06:21:46.392673Z",
     "iopub.status.busy": "2024-04-21T06:21:46.391989Z",
     "iopub.status.idle": "2024-04-21T06:21:46.417584Z",
     "shell.execute_reply": "2024-04-21T06:21:46.416560Z"
    },
    "papermill": {
     "duration": 0.05361,
     "end_time": "2024-04-21T06:21:46.420021",
     "exception": false,
     "start_time": "2024-04-21T06:21:46.366411",
     "status": "completed"
    },
    "tags": []
   },
   "outputs": [
    {
     "data": {
      "text/html": [
       "<div>\n",
       "<style scoped>\n",
       "    .dataframe tbody tr th:only-of-type {\n",
       "        vertical-align: middle;\n",
       "    }\n",
       "\n",
       "    .dataframe tbody tr th {\n",
       "        vertical-align: top;\n",
       "    }\n",
       "\n",
       "    .dataframe thead th {\n",
       "        text-align: right;\n",
       "    }\n",
       "</style>\n",
       "<table border=\"1\" class=\"dataframe\">\n",
       "  <thead>\n",
       "    <tr style=\"text-align: right;\">\n",
       "      <th></th>\n",
       "      <th>ApplicantIncome</th>\n",
       "      <th>CoapplicantIncome</th>\n",
       "      <th>LoanAmount</th>\n",
       "      <th>Loan_Amount_Term</th>\n",
       "      <th>Credit_History</th>\n",
       "    </tr>\n",
       "  </thead>\n",
       "  <tbody>\n",
       "    <tr>\n",
       "      <th>count</th>\n",
       "      <td>381.000000</td>\n",
       "      <td>381.000000</td>\n",
       "      <td>381.000000</td>\n",
       "      <td>370.000000</td>\n",
       "      <td>351.000000</td>\n",
       "    </tr>\n",
       "    <tr>\n",
       "      <th>mean</th>\n",
       "      <td>3579.845144</td>\n",
       "      <td>1277.275381</td>\n",
       "      <td>104.986877</td>\n",
       "      <td>340.864865</td>\n",
       "      <td>0.837607</td>\n",
       "    </tr>\n",
       "    <tr>\n",
       "      <th>std</th>\n",
       "      <td>1419.813818</td>\n",
       "      <td>2340.818114</td>\n",
       "      <td>28.358464</td>\n",
       "      <td>68.549257</td>\n",
       "      <td>0.369338</td>\n",
       "    </tr>\n",
       "    <tr>\n",
       "      <th>min</th>\n",
       "      <td>150.000000</td>\n",
       "      <td>0.000000</td>\n",
       "      <td>9.000000</td>\n",
       "      <td>12.000000</td>\n",
       "      <td>0.000000</td>\n",
       "    </tr>\n",
       "    <tr>\n",
       "      <th>25%</th>\n",
       "      <td>2600.000000</td>\n",
       "      <td>0.000000</td>\n",
       "      <td>90.000000</td>\n",
       "      <td>360.000000</td>\n",
       "      <td>1.000000</td>\n",
       "    </tr>\n",
       "    <tr>\n",
       "      <th>50%</th>\n",
       "      <td>3333.000000</td>\n",
       "      <td>983.000000</td>\n",
       "      <td>110.000000</td>\n",
       "      <td>360.000000</td>\n",
       "      <td>1.000000</td>\n",
       "    </tr>\n",
       "    <tr>\n",
       "      <th>75%</th>\n",
       "      <td>4288.000000</td>\n",
       "      <td>2016.000000</td>\n",
       "      <td>127.000000</td>\n",
       "      <td>360.000000</td>\n",
       "      <td>1.000000</td>\n",
       "    </tr>\n",
       "    <tr>\n",
       "      <th>max</th>\n",
       "      <td>9703.000000</td>\n",
       "      <td>33837.000000</td>\n",
       "      <td>150.000000</td>\n",
       "      <td>480.000000</td>\n",
       "      <td>1.000000</td>\n",
       "    </tr>\n",
       "  </tbody>\n",
       "</table>\n",
       "</div>"
      ],
      "text/plain": [
       "       ApplicantIncome  CoapplicantIncome  LoanAmount  Loan_Amount_Term  \\\n",
       "count       381.000000         381.000000  381.000000        370.000000   \n",
       "mean       3579.845144        1277.275381  104.986877        340.864865   \n",
       "std        1419.813818        2340.818114   28.358464         68.549257   \n",
       "min         150.000000           0.000000    9.000000         12.000000   \n",
       "25%        2600.000000           0.000000   90.000000        360.000000   \n",
       "50%        3333.000000         983.000000  110.000000        360.000000   \n",
       "75%        4288.000000        2016.000000  127.000000        360.000000   \n",
       "max        9703.000000       33837.000000  150.000000        480.000000   \n",
       "\n",
       "       Credit_History  \n",
       "count      351.000000  \n",
       "mean         0.837607  \n",
       "std          0.369338  \n",
       "min          0.000000  \n",
       "25%          1.000000  \n",
       "50%          1.000000  \n",
       "75%          1.000000  \n",
       "max          1.000000  "
      ]
     },
     "execution_count": 6,
     "metadata": {},
     "output_type": "execute_result"
    }
   ],
   "source": [
    "df.describe()"
   ]
  },
  {
   "cell_type": "code",
   "execution_count": 7,
   "id": "989d0960",
   "metadata": {
    "execution": {
     "iopub.execute_input": "2024-04-21T06:21:46.473457Z",
     "iopub.status.busy": "2024-04-21T06:21:46.472720Z",
     "iopub.status.idle": "2024-04-21T06:21:46.480702Z",
     "shell.execute_reply": "2024-04-21T06:21:46.479632Z"
    },
    "papermill": {
     "duration": 0.037197,
     "end_time": "2024-04-21T06:21:46.482784",
     "exception": false,
     "start_time": "2024-04-21T06:21:46.445587",
     "status": "completed"
    },
    "tags": []
   },
   "outputs": [
    {
     "data": {
      "text/plain": [
       "Loan_ID               0\n",
       "Gender                5\n",
       "Married               0\n",
       "Dependents            8\n",
       "Education             0\n",
       "Self_Employed        21\n",
       "ApplicantIncome       0\n",
       "CoapplicantIncome     0\n",
       "LoanAmount            0\n",
       "Loan_Amount_Term     11\n",
       "Credit_History       30\n",
       "Property_Area         0\n",
       "Loan_Status           0\n",
       "dtype: int64"
      ]
     },
     "execution_count": 7,
     "metadata": {},
     "output_type": "execute_result"
    }
   ],
   "source": [
    "df.isnull().sum()"
   ]
  },
  {
   "cell_type": "markdown",
   "id": "b52b6616",
   "metadata": {
    "papermill": {
     "duration": 0.024692,
     "end_time": "2024-04-21T06:21:46.532194",
     "exception": false,
     "start_time": "2024-04-21T06:21:46.507502",
     "status": "completed"
    },
    "tags": []
   },
   "source": [
    "### Exploratory Data Analysis and Visualization"
   ]
  },
  {
   "cell_type": "markdown",
   "id": "1b1c56c5",
   "metadata": {
    "papermill": {
     "duration": 0.024985,
     "end_time": "2024-04-21T06:21:46.640506",
     "exception": false,
     "start_time": "2024-04-21T06:21:46.615521",
     "status": "completed"
    },
    "tags": []
   },
   "source": [
    "* Removing unnecessery columns from dataset "
   ]
  },
  {
   "cell_type": "code",
   "execution_count": 8,
   "id": "5b1c56a3",
   "metadata": {
    "execution": {
     "iopub.execute_input": "2024-04-21T06:21:46.692126Z",
     "iopub.status.busy": "2024-04-21T06:21:46.691709Z",
     "iopub.status.idle": "2024-04-21T06:21:46.700532Z",
     "shell.execute_reply": "2024-04-21T06:21:46.699476Z"
    },
    "papermill": {
     "duration": 0.037446,
     "end_time": "2024-04-21T06:21:46.702554",
     "exception": false,
     "start_time": "2024-04-21T06:21:46.665108",
     "status": "completed"
    },
    "tags": []
   },
   "outputs": [],
   "source": [
    "df.drop(\"Loan_ID\",axis=1,inplace=True)"
   ]
  },
  {
   "cell_type": "code",
   "execution_count": 9,
   "id": "9da5f575",
   "metadata": {
    "execution": {
     "iopub.execute_input": "2024-04-21T06:21:46.754078Z",
     "iopub.status.busy": "2024-04-21T06:21:46.753660Z",
     "iopub.status.idle": "2024-04-21T06:21:46.760506Z",
     "shell.execute_reply": "2024-04-21T06:21:46.759451Z"
    },
    "papermill": {
     "duration": 0.03495,
     "end_time": "2024-04-21T06:21:46.762893",
     "exception": false,
     "start_time": "2024-04-21T06:21:46.727943",
     "status": "completed"
    },
    "tags": []
   },
   "outputs": [
    {
     "data": {
      "text/plain": [
       "(381, 12)"
      ]
     },
     "execution_count": 9,
     "metadata": {},
     "output_type": "execute_result"
    }
   ],
   "source": [
    "df.shape"
   ]
  },
  {
   "cell_type": "markdown",
   "id": "fabb38fc",
   "metadata": {
    "papermill": {
     "duration": 0.025201,
     "end_time": "2024-04-21T06:21:46.812856",
     "exception": false,
     "start_time": "2024-04-21T06:21:46.787655",
     "status": "completed"
    },
    "tags": []
   },
   "source": [
    "* Gender "
   ]
  },
  {
   "cell_type": "code",
   "execution_count": 10,
   "id": "245e42fe",
   "metadata": {
    "execution": {
     "iopub.execute_input": "2024-04-21T06:21:46.863977Z",
     "iopub.status.busy": "2024-04-21T06:21:46.863560Z",
     "iopub.status.idle": "2024-04-21T06:21:46.871212Z",
     "shell.execute_reply": "2024-04-21T06:21:46.870437Z"
    },
    "papermill": {
     "duration": 0.035573,
     "end_time": "2024-04-21T06:21:46.873106",
     "exception": false,
     "start_time": "2024-04-21T06:21:46.837533",
     "status": "completed"
    },
    "tags": []
   },
   "outputs": [
    {
     "data": {
      "text/plain": [
       "Gender\n",
       "Male      291\n",
       "Female     85\n",
       "Name: count, dtype: int64"
      ]
     },
     "execution_count": 10,
     "metadata": {},
     "output_type": "execute_result"
    }
   ],
   "source": [
    "df[\"Gender\"].value_counts()"
   ]
  },
  {
   "cell_type": "code",
   "execution_count": 11,
   "id": "f10c0d34",
   "metadata": {
    "execution": {
     "iopub.execute_input": "2024-04-21T06:21:46.926721Z",
     "iopub.status.busy": "2024-04-21T06:21:46.926170Z",
     "iopub.status.idle": "2024-04-21T06:21:47.545311Z",
     "shell.execute_reply": "2024-04-21T06:21:47.544433Z"
    },
    "papermill": {
     "duration": 0.648925,
     "end_time": "2024-04-21T06:21:47.547732",
     "exception": false,
     "start_time": "2024-04-21T06:21:46.898807",
     "status": "completed"
    },
    "tags": []
   },
   "outputs": [
    {
     "data": {
      "image/png": "[encoded data removed]",
      "text/plain": [
       "<Figure size 1300x700 with 3 Axes>"
      ]
     },
     "metadata": {},
     "output_type": "display_data"
    }
   ],
   "source": [
    "plt.figure(figsize=(13,7))\n",
    "plt.subplot(2,2,1)\n",
    "df[\"Gender\"].value_counts().plot(kind=\"bar\",color=sns.color_palette(\"rocket\"))\n",
    "plt.subplot(2,2,2)\n",
    "df[\"Gender\"].value_counts().plot(kind=\"pie\",colors=[\"lightblue\",\"orange\"],autopct=\"%0.2f%%\",explode=[0,0.1])\n",
    "plt.subplot(2,2,3)\n",
    "sns.countplot(x = df[\"Gender\"],palette=\"viridis\",hue=df[\"Loan_Status\"])\n",
    "plt.tight_layout()\n",
    "plt.show()"
   ]
  },
  {
   "cell_type": "markdown",
   "id": "2fc07a2e",
   "metadata": {
    "papermill": {
     "duration": 0.025328,
     "end_time": "2024-04-21T06:21:47.599182",
     "exception": false,
     "start_time": "2024-04-21T06:21:47.573854",
     "status": "completed"
    },
    "tags": []
   },
   "source": [
    "* Majority of applicants are male "
   ]
  },
  {
   "cell_type": "code",
   "execution_count": 12,
   "id": "08cd9c47",
   "metadata": {
    "execution": {
     "iopub.execute_input": "2024-04-21T06:21:47.653249Z",
     "iopub.status.busy": "2024-04-21T06:21:47.652594Z",
     "iopub.status.idle": "2024-04-21T06:21:47.665839Z",
     "shell.execute_reply": "2024-04-21T06:21:47.664528Z"
    },
    "papermill": {
     "duration": 0.043607,
     "end_time": "2024-04-21T06:21:47.668239",
     "exception": false,
     "start_time": "2024-04-21T06:21:47.624632",
     "status": "completed"
    },
    "tags": []
   },
   "outputs": [
    {
     "data": {
      "text/plain": [
       "Gender  Loan_Status\n",
       "Female  N              30.588235\n",
       "        Y              69.411765\n",
       "Male    N              27.491409\n",
       "        Y              72.508591\n",
       "Name: Loan_Status, dtype: float64"
      ]
     },
     "execution_count": 12,
     "metadata": {},
     "output_type": "execute_result"
    }
   ],
   "source": [
    "df.groupby([\"Gender\",\"Loan_Status\"])[\"Loan_Status\"].count() * 100.0/df.groupby(\"Gender\")[\"Loan_Status\"].count()"
   ]
  },
  {
   "cell_type": "markdown",
   "id": "147af196",
   "metadata": {
    "papermill": {
     "duration": 0.0265,
     "end_time": "2024-04-21T06:21:47.721056",
     "exception": false,
     "start_time": "2024-04-21T06:21:47.694556",
     "status": "completed"
    },
    "tags": []
   },
   "source": [
    "* Loan status does not vary significantly based on gender "
   ]
  },
  {
   "cell_type": "markdown",
   "id": "d1fef066",
   "metadata": {
    "papermill": {
     "duration": 0.025468,
     "end_time": "2024-04-21T06:21:47.773125",
     "exception": false,
     "start_time": "2024-04-21T06:21:47.747657",
     "status": "completed"
    },
    "tags": []
   },
   "source": [
    "* Married "
   ]
  },
  {
   "cell_type": "code",
   "execution_count": 13,
   "id": "0b7ac292",
   "metadata": {
    "execution": {
     "iopub.execute_input": "2024-04-21T06:21:47.827458Z",
     "iopub.status.busy": "2024-04-21T06:21:47.827026Z",
     "iopub.status.idle": "2024-04-21T06:21:47.833816Z",
     "shell.execute_reply": "2024-04-21T06:21:47.833040Z"
    },
    "papermill": {
     "duration": 0.03707,
     "end_time": "2024-04-21T06:21:47.836012",
     "exception": false,
     "start_time": "2024-04-21T06:21:47.798942",
     "status": "completed"
    },
    "tags": []
   },
   "outputs": [
    {
     "data": {
      "text/plain": [
       "array(['Yes', 'No'], dtype=object)"
      ]
     },
     "execution_count": 13,
     "metadata": {},
     "output_type": "execute_result"
    }
   ],
   "source": [
    "df[\"Married\"].unique()"
   ]
  },
  {
   "cell_type": "code",
   "execution_count": 14,
   "id": "5779c8ff",
   "metadata": {
    "execution": {
     "iopub.execute_input": "2024-04-21T06:21:47.889671Z",
     "iopub.status.busy": "2024-04-21T06:21:47.888881Z",
     "iopub.status.idle": "2024-04-21T06:21:47.897704Z",
     "shell.execute_reply": "2024-04-21T06:21:47.896432Z"
    },
    "papermill": {
     "duration": 0.038617,
     "end_time": "2024-04-21T06:21:47.900352",
     "exception": false,
     "start_time": "2024-04-21T06:21:47.861735",
     "status": "completed"
    },
    "tags": []
   },
   "outputs": [
    {
     "data": {
      "text/plain": [
       "Married\n",
       "Yes    228\n",
       "No     153\n",
       "Name: count, dtype: int64"
      ]
     },
     "execution_count": 14,
     "metadata": {},
     "output_type": "execute_result"
    }
   ],
   "source": [
    "df[\"Married\"].value_counts()"
   ]
  },
  {
   "cell_type": "code",
   "execution_count": 15,
   "id": "7bce9850",
   "metadata": {
    "execution": {
     "iopub.execute_input": "2024-04-21T06:21:47.956441Z",
     "iopub.status.busy": "2024-04-21T06:21:47.955655Z",
     "iopub.status.idle": "2024-04-21T06:21:48.425827Z",
     "shell.execute_reply": "2024-04-21T06:21:48.424580Z"
    },
    "papermill": {
     "duration": 0.502594,
     "end_time": "2024-04-21T06:21:48.428745",
     "exception": false,
     "start_time": "2024-04-21T06:21:47.926151",
     "status": "completed"
    },
    "tags": []
   },
   "outputs": [
    {
     "data": {
      "image/png": "[encoded data removed]",
      "text/plain": [
       "<Figure size 1300x700 with 3 Axes>"
      ]
     },
     "metadata": {},
     "output_type": "display_data"
    }
   ],
   "source": [
    "plt.figure(figsize=(13,7))\n",
    "plt.subplot(2,2,1)\n",
    "df[\"Married\"].value_counts().plot(kind=\"bar\",color=sns.color_palette(\"rocket\"))\n",
    "plt.subplot(2,2,2)\n",
    "df[\"Married\"].value_counts().plot(kind=\"pie\",colors=[\"lightblue\",\"lightcoral\"],autopct=\"%0.2f%%\",explode=[0,0.1])\n",
    "plt.subplot(2,2,3)\n",
    "sns.countplot(x = df[\"Married\"],palette=\"crest\",hue=df[\"Loan_Status\"])\n",
    "plt.tight_layout()\n",
    "plt.show()"
   ]
  },
  {
   "cell_type": "code",
   "execution_count": 16,
   "id": "63b8c382",
   "metadata": {
    "execution": {
     "iopub.execute_input": "2024-04-21T06:21:48.494130Z",
     "iopub.status.busy": "2024-04-21T06:21:48.493084Z",
     "iopub.status.idle": "2024-04-21T06:21:48.508407Z",
     "shell.execute_reply": "2024-04-21T06:21:48.507335Z"
    },
    "papermill": {
     "duration": 0.050208,
     "end_time": "2024-04-21T06:21:48.510725",
     "exception": false,
     "start_time": "2024-04-21T06:21:48.460517",
     "status": "completed"
    },
    "tags": []
   },
   "outputs": [
    {
     "data": {
      "text/plain": [
       "Married  Loan_Status\n",
       "No       N              33.986928\n",
       "         Y              66.013072\n",
       "Yes      N              25.438596\n",
       "         Y              74.561404\n",
       "Name: Loan_Status, dtype: float64"
      ]
     },
     "execution_count": 16,
     "metadata": {},
     "output_type": "execute_result"
    }
   ],
   "source": [
    "df.groupby([\"Married\",\"Loan_Status\"])[\"Loan_Status\"].count() * 100.0/df.groupby(\"Married\")[\"Loan_Status\"].count()"
   ]
  },
  {
   "cell_type": "markdown",
   "id": "1ef5a9d3",
   "metadata": {
    "papermill": {
     "duration": 0.027566,
     "end_time": "2024-04-21T06:21:48.566221",
     "exception": false,
     "start_time": "2024-04-21T06:21:48.538655",
     "status": "completed"
    },
    "tags": []
   },
   "source": [
    "* Those applicants are married have better channce to get loan approved compared to those who are not married."
   ]
  },
  {
   "cell_type": "markdown",
   "id": "643465b3",
   "metadata": {
    "papermill": {
     "duration": 0.028581,
     "end_time": "2024-04-21T06:21:48.624296",
     "exception": false,
     "start_time": "2024-04-21T06:21:48.595715",
     "status": "completed"
    },
    "tags": []
   },
   "source": [
    "* Dependents "
   ]
  },
  {
   "cell_type": "code",
   "execution_count": 17,
   "id": "aad902a9",
   "metadata": {
    "execution": {
     "iopub.execute_input": "2024-04-21T06:21:48.681164Z",
     "iopub.status.busy": "2024-04-21T06:21:48.680463Z",
     "iopub.status.idle": "2024-04-21T06:21:48.689361Z",
     "shell.execute_reply": "2024-04-21T06:21:48.687951Z"
    },
    "papermill": {
     "duration": 0.039911,
     "end_time": "2024-04-21T06:21:48.691556",
     "exception": false,
     "start_time": "2024-04-21T06:21:48.651645",
     "status": "completed"
    },
    "tags": []
   },
   "outputs": [
    {
     "name": "stdout",
     "output_type": "stream",
     "text": [
      "Dependents\n",
      "0     234\n",
      "1      52\n",
      "2      59\n",
      "3+     28\n",
      "dtype: int64 Dependents\n",
      "0     61.417323\n",
      "1     13.648294\n",
      "2     15.485564\n",
      "3+     7.349081\n",
      "dtype: float64\n"
     ]
    }
   ],
   "source": [
    "print(df.groupby(\"Dependents\").size(),df.groupby(\"Dependents\").size() * 100.0/len(df))"
   ]
  },
  {
   "cell_type": "code",
   "execution_count": 18,
   "id": "5824efff",
   "metadata": {
    "execution": {
     "iopub.execute_input": "2024-04-21T06:21:48.758616Z",
     "iopub.status.busy": "2024-04-21T06:21:48.757722Z",
     "iopub.status.idle": "2024-04-21T06:21:48.912761Z",
     "shell.execute_reply": "2024-04-21T06:21:48.911390Z"
    },
    "papermill": {
     "duration": 0.19126,
     "end_time": "2024-04-21T06:21:48.915348",
     "exception": false,
     "start_time": "2024-04-21T06:21:48.724088",
     "status": "completed"
    },
    "tags": []
   },
   "outputs": [
    {
     "data": {
      "image/png": "[encoded data removed]",
      "text/plain": [
       "<Figure size 800x500 with 1 Axes>"
      ]
     },
     "metadata": {},
     "output_type": "display_data"
    }
   ],
   "source": [
    "df.groupby(\"Dependents\").size().plot(kind=\"bar\",color=sns.color_palette(\"crest\"),figsize=(8,5))\n",
    "plt.show()"
   ]
  },
  {
   "cell_type": "markdown",
   "id": "52f77d37",
   "metadata": {
    "papermill": {
     "duration": 0.026865,
     "end_time": "2024-04-21T06:21:48.970145",
     "exception": false,
     "start_time": "2024-04-21T06:21:48.943280",
     "status": "completed"
    },
    "tags": []
   },
   "source": [
    "* So most of the appiicants have 0 dependents "
   ]
  },
  {
   "cell_type": "code",
   "execution_count": 19,
   "id": "ef601a62",
   "metadata": {
    "execution": {
     "iopub.execute_input": "2024-04-21T06:21:49.025759Z",
     "iopub.status.busy": "2024-04-21T06:21:49.025386Z",
     "iopub.status.idle": "2024-04-21T06:21:49.036728Z",
     "shell.execute_reply": "2024-04-21T06:21:49.035580Z"
    },
    "papermill": {
     "duration": 0.042107,
     "end_time": "2024-04-21T06:21:49.039127",
     "exception": false,
     "start_time": "2024-04-21T06:21:48.997020",
     "status": "completed"
    },
    "tags": []
   },
   "outputs": [
    {
     "data": {
      "text/plain": [
       "Dependents  Loan_Status\n",
       "0           N               66\n",
       "            Y              168\n",
       "1           N               17\n",
       "            Y               35\n",
       "2           N               15\n",
       "            Y               44\n",
       "3+          N                8\n",
       "            Y               20\n",
       "Name: Loan_Status, dtype: int64"
      ]
     },
     "execution_count": 19,
     "metadata": {},
     "output_type": "execute_result"
    }
   ],
   "source": [
    "df.groupby([\"Dependents\",\"Loan_Status\"])[\"Loan_Status\"].count()"
   ]
  },
  {
   "cell_type": "code",
   "execution_count": 20,
   "id": "02581b16",
   "metadata": {
    "execution": {
     "iopub.execute_input": "2024-04-21T06:21:49.095953Z",
     "iopub.status.busy": "2024-04-21T06:21:49.095523Z",
     "iopub.status.idle": "2024-04-21T06:21:49.295167Z",
     "shell.execute_reply": "2024-04-21T06:21:49.294347Z"
    },
    "papermill": {
     "duration": 0.231129,
     "end_time": "2024-04-21T06:21:49.297300",
     "exception": false,
     "start_time": "2024-04-21T06:21:49.066171",
     "status": "completed"
    },
    "tags": []
   },
   "outputs": [
    {
     "data": {
      "image/png": "[encoded data removed]",
      "text/plain": [
       "<Figure size 800x400 with 1 Axes>"
      ]
     },
     "metadata": {},
     "output_type": "display_data"
    }
   ],
   "source": [
    "plt.figure(figsize=(8,4))\n",
    "sns.countplot(x = df[\"Dependents\"],palette=\"crest\",hue=df[\"Loan_Status\"])\n",
    "plt.show()"
   ]
  },
  {
   "cell_type": "code",
   "execution_count": 21,
   "id": "10abfe0d",
   "metadata": {
    "execution": {
     "iopub.execute_input": "2024-04-21T06:21:49.355790Z",
     "iopub.status.busy": "2024-04-21T06:21:49.355141Z",
     "iopub.status.idle": "2024-04-21T06:21:49.365956Z",
     "shell.execute_reply": "2024-04-21T06:21:49.364883Z"
    },
    "papermill": {
     "duration": 0.042092,
     "end_time": "2024-04-21T06:21:49.368199",
     "exception": false,
     "start_time": "2024-04-21T06:21:49.326107",
     "status": "completed"
    },
    "tags": []
   },
   "outputs": [
    {
     "data": {
      "text/plain": [
       "Dependents  Loan_Status\n",
       "0           N              28.205128\n",
       "            Y              71.794872\n",
       "1           N              32.692308\n",
       "            Y              67.307692\n",
       "2           N              25.423729\n",
       "            Y              74.576271\n",
       "3+          N              28.571429\n",
       "            Y              71.428571\n",
       "dtype: float64"
      ]
     },
     "execution_count": 21,
     "metadata": {},
     "output_type": "execute_result"
    }
   ],
   "source": [
    "df.groupby([\"Dependents\",\"Loan_Status\"])[\"Loan_Status\"].count() * 100.0 /df.groupby(\"Dependents\").size()"
   ]
  },
  {
   "cell_type": "markdown",
   "id": "01b0121f",
   "metadata": {
    "papermill": {
     "duration": 0.027381,
     "end_time": "2024-04-21T06:21:49.423360",
     "exception": false,
     "start_time": "2024-04-21T06:21:49.395979",
     "status": "completed"
    },
    "tags": []
   },
   "source": [
    "* There is not much difference between lower dependents to higher dependents to get loan approved."
   ]
  },
  {
   "cell_type": "code",
   "execution_count": 22,
   "id": "46a11299",
   "metadata": {
    "execution": {
     "iopub.execute_input": "2024-04-21T06:21:49.481661Z",
     "iopub.status.busy": "2024-04-21T06:21:49.480500Z",
     "iopub.status.idle": "2024-04-21T06:21:49.492012Z",
     "shell.execute_reply": "2024-04-21T06:21:49.490974Z"
    },
    "papermill": {
     "duration": 0.043434,
     "end_time": "2024-04-21T06:21:49.494219",
     "exception": false,
     "start_time": "2024-04-21T06:21:49.450785",
     "status": "completed"
    },
    "tags": []
   },
   "outputs": [
    {
     "data": {
      "text/plain": [
       "Married  Dependents  Loan_Status\n",
       "No       0           N              42\n",
       "                     Y              85\n",
       "         1           N               5\n",
       "                     Y              10\n",
       "         2           N               3\n",
       "                     Y               3\n",
       "         3+          Y               1\n",
       "Yes      0           N              24\n",
       "                     Y              83\n",
       "         1           N              12\n",
       "                     Y              25\n",
       "         2           N              12\n",
       "                     Y              41\n",
       "         3+          N               8\n",
       "                     Y              19\n",
       "Name: Loan_Status, dtype: int64"
      ]
     },
     "execution_count": 22,
     "metadata": {},
     "output_type": "execute_result"
    }
   ],
   "source": [
    "df.groupby([\"Married\",\"Dependents\",\"Loan_Status\"])[\"Loan_Status\"].count()"
   ]
  },
  {
   "cell_type": "code",
   "execution_count": 23,
   "id": "a47b63df",
   "metadata": {
    "execution": {
     "iopub.execute_input": "2024-04-21T06:21:49.552508Z",
     "iopub.status.busy": "2024-04-21T06:21:49.551265Z",
     "iopub.status.idle": "2024-04-21T06:21:49.574489Z",
     "shell.execute_reply": "2024-04-21T06:21:49.573343Z"
    },
    "papermill": {
     "duration": 0.054694,
     "end_time": "2024-04-21T06:21:49.577036",
     "exception": false,
     "start_time": "2024-04-21T06:21:49.522342",
     "status": "completed"
    },
    "tags": []
   },
   "outputs": [
    {
     "data": {
      "text/plain": [
       "Married  Dependents  Loan_Status\n",
       "No       0           N               33.070866\n",
       "                     Y               66.929134\n",
       "         1           N               33.333333\n",
       "                     Y               66.666667\n",
       "         2           N               50.000000\n",
       "                     Y               50.000000\n",
       "         3+          Y              100.000000\n",
       "Yes      0           N               22.429907\n",
       "                     Y               77.570093\n",
       "         1           N               32.432432\n",
       "                     Y               67.567568\n",
       "         2           N               22.641509\n",
       "                     Y               77.358491\n",
       "         3+          N               29.629630\n",
       "                     Y               70.370370\n",
       "dtype: float64"
      ]
     },
     "execution_count": 23,
     "metadata": {},
     "output_type": "execute_result"
    }
   ],
   "source": [
    "df.groupby([\"Married\",\"Dependents\",\"Loan_Status\"])[\"Loan_Status\"].count() *  100.0 /df.groupby([\"Married\",\"Dependents\"]).size()"
   ]
  },
  {
   "cell_type": "markdown",
   "id": "3cfa3593",
   "metadata": {
    "papermill": {
     "duration": 0.028864,
     "end_time": "2024-04-21T06:21:49.634888",
     "exception": false,
     "start_time": "2024-04-21T06:21:49.606024",
     "status": "completed"
    },
    "tags": []
   },
   "source": [
    "* Here also not much difference but married applicants have an edge over singles"
   ]
  },
  {
   "cell_type": "markdown",
   "id": "ab24d13b",
   "metadata": {
    "papermill": {
     "duration": 0.028462,
     "end_time": "2024-04-21T06:21:49.691355",
     "exception": false,
     "start_time": "2024-04-21T06:21:49.662893",
     "status": "completed"
    },
    "tags": []
   },
   "source": [
    "* Education "
   ]
  },
  {
   "cell_type": "code",
   "execution_count": 24,
   "id": "53a3d6d9",
   "metadata": {
    "execution": {
     "iopub.execute_input": "2024-04-21T06:21:49.749873Z",
     "iopub.status.busy": "2024-04-21T06:21:49.748734Z",
     "iopub.status.idle": "2024-04-21T06:21:49.756471Z",
     "shell.execute_reply": "2024-04-21T06:21:49.755277Z"
    },
    "papermill": {
     "duration": 0.039331,
     "end_time": "2024-04-21T06:21:49.758580",
     "exception": false,
     "start_time": "2024-04-21T06:21:49.719249",
     "status": "completed"
    },
    "tags": []
   },
   "outputs": [
    {
     "data": {
      "text/plain": [
       "2"
      ]
     },
     "execution_count": 24,
     "metadata": {},
     "output_type": "execute_result"
    }
   ],
   "source": [
    "df[\"Education\"].nunique()"
   ]
  },
  {
   "cell_type": "code",
   "execution_count": 25,
   "id": "b8066f41",
   "metadata": {
    "execution": {
     "iopub.execute_input": "2024-04-21T06:21:49.817566Z",
     "iopub.status.busy": "2024-04-21T06:21:49.816558Z",
     "iopub.status.idle": "2024-04-21T06:21:49.825566Z",
     "shell.execute_reply": "2024-04-21T06:21:49.824470Z"
    },
    "papermill": {
     "duration": 0.040593,
     "end_time": "2024-04-21T06:21:49.827620",
     "exception": false,
     "start_time": "2024-04-21T06:21:49.787027",
     "status": "completed"
    },
    "tags": []
   },
   "outputs": [
    {
     "data": {
      "text/plain": [
       "Education\n",
       "Graduate        278\n",
       "Not Graduate    103\n",
       "Name: count, dtype: int64"
      ]
     },
     "execution_count": 25,
     "metadata": {},
     "output_type": "execute_result"
    }
   ],
   "source": [
    "df[\"Education\"].value_counts()"
   ]
  },
  {
   "cell_type": "code",
   "execution_count": 26,
   "id": "b0ff86d8",
   "metadata": {
    "execution": {
     "iopub.execute_input": "2024-04-21T06:21:49.886672Z",
     "iopub.status.busy": "2024-04-21T06:21:49.885639Z",
     "iopub.status.idle": "2024-04-21T06:21:49.896805Z",
     "shell.execute_reply": "2024-04-21T06:21:49.895667Z"
    },
    "papermill": {
     "duration": 0.043177,
     "end_time": "2024-04-21T06:21:49.899234",
     "exception": false,
     "start_time": "2024-04-21T06:21:49.856057",
     "status": "completed"
    },
    "tags": []
   },
   "outputs": [
    {
     "data": {
      "text/plain": [
       "Education     Loan_Status\n",
       "Graduate      N               76\n",
       "              Y              202\n",
       "Not Graduate  N               34\n",
       "              Y               69\n",
       "Name: Loan_Status, dtype: int64"
      ]
     },
     "execution_count": 26,
     "metadata": {},
     "output_type": "execute_result"
    }
   ],
   "source": [
    "df.groupby([\"Education\",\"Loan_Status\"])[\"Loan_Status\"].count()"
   ]
  },
  {
   "cell_type": "code",
   "execution_count": 27,
   "id": "fbad0a0f",
   "metadata": {
    "execution": {
     "iopub.execute_input": "2024-04-21T06:21:49.961679Z",
     "iopub.status.busy": "2024-04-21T06:21:49.961005Z",
     "iopub.status.idle": "2024-04-21T06:21:50.150169Z",
     "shell.execute_reply": "2024-04-21T06:21:50.148972Z"
    },
    "papermill": {
     "duration": 0.223575,
     "end_time": "2024-04-21T06:21:50.152466",
     "exception": false,
     "start_time": "2024-04-21T06:21:49.928891",
     "status": "completed"
    },
    "tags": []
   },
   "outputs": [
    {
     "data": {
      "image/png": "[encoded data removed]",
      "text/plain": [
       "<Figure size 800x400 with 1 Axes>"
      ]
     },
     "metadata": {},
     "output_type": "display_data"
    }
   ],
   "source": [
    "plt.figure(figsize=(8,4))\n",
    "sns.countplot(x = df[\"Education\"],palette=\"flare\",hue=df[\"Loan_Status\"])\n",
    "plt.show()"
   ]
  },
  {
   "cell_type": "code",
   "execution_count": 28,
   "id": "51f94506",
   "metadata": {
    "execution": {
     "iopub.execute_input": "2024-04-21T06:21:50.212291Z",
     "iopub.status.busy": "2024-04-21T06:21:50.211162Z",
     "iopub.status.idle": "2024-04-21T06:21:50.224278Z",
     "shell.execute_reply": "2024-04-21T06:21:50.223104Z"
    },
    "papermill": {
     "duration": 0.045667,
     "end_time": "2024-04-21T06:21:50.226777",
     "exception": false,
     "start_time": "2024-04-21T06:21:50.181110",
     "status": "completed"
    },
    "scrolled": true,
    "tags": []
   },
   "outputs": [
    {
     "data": {
      "text/plain": [
       "Education     Loan_Status\n",
       "Graduate      N              27.338129\n",
       "              Y              72.661871\n",
       "Not Graduate  N              33.009709\n",
       "              Y              66.990291\n",
       "dtype: float64"
      ]
     },
     "execution_count": 28,
     "metadata": {},
     "output_type": "execute_result"
    }
   ],
   "source": [
    "df.groupby([\"Education\",\"Loan_Status\"])[\"Loan_Status\"].count() * 100.0/df.groupby(\"Education\").size()"
   ]
  },
  {
   "cell_type": "markdown",
   "id": "2b26014a",
   "metadata": {
    "papermill": {
     "duration": 0.030318,
     "end_time": "2024-04-21T06:21:50.286939",
     "exception": false,
     "start_time": "2024-04-21T06:21:50.256621",
     "status": "completed"
    },
    "tags": []
   },
   "source": [
    "* So those applicants are graduated are more likely to get loan approved."
   ]
  },
  {
   "cell_type": "markdown",
   "id": "79b8b890",
   "metadata": {
    "papermill": {
     "duration": 0.028322,
     "end_time": "2024-04-21T06:21:50.344451",
     "exception": false,
     "start_time": "2024-04-21T06:21:50.316129",
     "status": "completed"
    },
    "tags": []
   },
   "source": [
    "* Applicant Income "
   ]
  },
  {
   "cell_type": "code",
   "execution_count": 29,
   "id": "8222465c",
   "metadata": {
    "execution": {
     "iopub.execute_input": "2024-04-21T06:21:50.405968Z",
     "iopub.status.busy": "2024-04-21T06:21:50.404984Z",
     "iopub.status.idle": "2024-04-21T06:21:50.415824Z",
     "shell.execute_reply": "2024-04-21T06:21:50.414639Z"
    },
    "papermill": {
     "duration": 0.044363,
     "end_time": "2024-04-21T06:21:50.418259",
     "exception": false,
     "start_time": "2024-04-21T06:21:50.373896",
     "status": "completed"
    },
    "tags": []
   },
   "outputs": [
    {
     "data": {
      "text/plain": [
       "Loan_Status\n",
       "N    3602.472727\n",
       "Y    3570.660517\n",
       "Name: ApplicantIncome, dtype: float64"
      ]
     },
     "execution_count": 29,
     "metadata": {},
     "output_type": "execute_result"
    }
   ],
   "source": [
    "df.groupby(\"Loan_Status\")[\"ApplicantIncome\"].mean()"
   ]
  },
  {
   "cell_type": "code",
   "execution_count": 30,
   "id": "bb83217a",
   "metadata": {
    "execution": {
     "iopub.execute_input": "2024-04-21T06:21:50.477939Z",
     "iopub.status.busy": "2024-04-21T06:21:50.477534Z",
     "iopub.status.idle": "2024-04-21T06:21:50.492033Z",
     "shell.execute_reply": "2024-04-21T06:21:50.491200Z"
    },
    "papermill": {
     "duration": 0.047175,
     "end_time": "2024-04-21T06:21:50.494113",
     "exception": false,
     "start_time": "2024-04-21T06:21:50.446938",
     "status": "completed"
    },
    "tags": []
   },
   "outputs": [
    {
     "data": {
      "text/plain": [
       "Loan_Status      \n",
       "N            0.50    3418.0\n",
       "             0.75    4524.5\n",
       "             0.90    5266.7\n",
       "Y            0.50    3276.0\n",
       "             0.75    4177.0\n",
       "             0.90    5503.0\n",
       "Name: ApplicantIncome, dtype: float64"
      ]
     },
     "execution_count": 30,
     "metadata": {},
     "output_type": "execute_result"
    }
   ],
   "source": [
    "df.groupby(\"Loan_Status\")[\"ApplicantIncome\"].quantile([0.5,0.75,0.9])"
   ]
  },
  {
   "cell_type": "code",
   "execution_count": 31,
   "id": "995cdd60",
   "metadata": {
    "execution": {
     "iopub.execute_input": "2024-04-21T06:21:50.557028Z",
     "iopub.status.busy": "2024-04-21T06:21:50.556283Z",
     "iopub.status.idle": "2024-04-21T06:21:51.232551Z",
     "shell.execute_reply": "2024-04-21T06:21:51.231650Z"
    },
    "papermill": {
     "duration": 0.711124,
     "end_time": "2024-04-21T06:21:51.235116",
     "exception": false,
     "start_time": "2024-04-21T06:21:50.523992",
     "status": "completed"
    },
    "tags": []
   },
   "outputs": [
    {
     "data": {
      "image/png": "[encoded data removed]",
      "text/plain": [
       "<Figure size 1300x700 with 4 Axes>"
      ]
     },
     "metadata": {},
     "output_type": "display_data"
    }
   ],
   "source": [
    "plt.figure(figsize=(13,7))\n",
    "plt.subplot(2,2,1)\n",
    "plt.hist(df[\"ApplicantIncome\"],edgecolor=\"black\",color=\"skyblue\")\n",
    "plt.subplot(2,2,2)\n",
    "sns.boxplot(x = df[\"ApplicantIncome\"])\n",
    "plt.subplot(2,2,3)\n",
    "sns.barplot(x=df[\"Loan_Status\"],y=df[\"ApplicantIncome\"],palette=\"mako\")\n",
    "plt.subplot(2,2,4)\n",
    "sns.boxplot(x=df[\"Loan_Status\"],y=df[\"ApplicantIncome\"],palette=\"crest\")\n",
    "plt.tight_layout()\n",
    "plt.show()"
   ]
  },
  {
   "cell_type": "markdown",
   "id": "213a6b1f",
   "metadata": {
    "papermill": {
     "duration": 0.030903,
     "end_time": "2024-04-21T06:21:51.296569",
     "exception": false,
     "start_time": "2024-04-21T06:21:51.265666",
     "status": "completed"
    },
    "tags": []
   },
   "source": [
    "* Here we have slight difference between the income level of applicants based on loan status "
   ]
  },
  {
   "cell_type": "markdown",
   "id": "2f70a2d4",
   "metadata": {
    "papermill": {
     "duration": 0.029414,
     "end_time": "2024-04-21T06:21:51.356317",
     "exception": false,
     "start_time": "2024-04-21T06:21:51.326903",
     "status": "completed"
    },
    "tags": []
   },
   "source": [
    "* Co Applicant Income "
   ]
  },
  {
   "cell_type": "code",
   "execution_count": 32,
   "id": "1aa734d4",
   "metadata": {
    "execution": {
     "iopub.execute_input": "2024-04-21T06:21:51.418588Z",
     "iopub.status.busy": "2024-04-21T06:21:51.417956Z",
     "iopub.status.idle": "2024-04-21T06:21:52.108053Z",
     "shell.execute_reply": "2024-04-21T06:21:52.107100Z"
    },
    "papermill": {
     "duration": 0.723731,
     "end_time": "2024-04-21T06:21:52.110378",
     "exception": false,
     "start_time": "2024-04-21T06:21:51.386647",
     "status": "completed"
    },
    "tags": []
   },
   "outputs": [
    {
     "data": {
      "image/png": "[encoded data removed]",
      "text/plain": [
       "<Figure size 1300x700 with 4 Axes>"
      ]
     },
     "metadata": {},
     "output_type": "display_data"
    }
   ],
   "source": [
    "plt.figure(figsize=(13,7))\n",
    "plt.subplot(2,2,1)\n",
    "plt.hist(df[\"CoapplicantIncome\"],edgecolor=\"black\",color=\"skyblue\")\n",
    "plt.subplot(2,2,2)\n",
    "sns.boxplot(x = df[\"CoapplicantIncome\"])\n",
    "plt.subplot(2,2,3)\n",
    "sns.barplot(x=df[\"Loan_Status\"],y=df[\"CoapplicantIncome\"],palette=\"mako\")\n",
    "plt.subplot(2,2,4)\n",
    "sns.boxplot(x=df[\"Loan_Status\"],y=df[\"CoapplicantIncome\"],palette=\"crest\")\n",
    "plt.tight_layout()\n",
    "plt.show()"
   ]
  },
  {
   "cell_type": "markdown",
   "id": "41df6dfe",
   "metadata": {
    "papermill": {
     "duration": 0.030075,
     "end_time": "2024-04-21T06:21:52.170851",
     "exception": false,
     "start_time": "2024-04-21T06:21:52.140776",
     "status": "completed"
    },
    "tags": []
   },
   "source": [
    "* Loan Amount "
   ]
  },
  {
   "cell_type": "code",
   "execution_count": 33,
   "id": "24906e42",
   "metadata": {
    "execution": {
     "iopub.execute_input": "2024-04-21T06:21:52.233731Z",
     "iopub.status.busy": "2024-04-21T06:21:52.233352Z",
     "iopub.status.idle": "2024-04-21T06:21:52.239160Z",
     "shell.execute_reply": "2024-04-21T06:21:52.237870Z"
    },
    "papermill": {
     "duration": 0.039995,
     "end_time": "2024-04-21T06:21:52.241214",
     "exception": false,
     "start_time": "2024-04-21T06:21:52.201219",
     "status": "completed"
    },
    "tags": []
   },
   "outputs": [],
   "source": [
    "df[\"LoanAmount\"] = df[\"LoanAmount\"] * 1000"
   ]
  },
  {
   "cell_type": "code",
   "execution_count": 34,
   "id": "1639aaea",
   "metadata": {
    "execution": {
     "iopub.execute_input": "2024-04-21T06:21:52.306488Z",
     "iopub.status.busy": "2024-04-21T06:21:52.305199Z",
     "iopub.status.idle": "2024-04-21T06:21:52.314700Z",
     "shell.execute_reply": "2024-04-21T06:21:52.313649Z"
    },
    "papermill": {
     "duration": 0.045024,
     "end_time": "2024-04-21T06:21:52.316768",
     "exception": false,
     "start_time": "2024-04-21T06:21:52.271744",
     "status": "completed"
    },
    "tags": []
   },
   "outputs": [
    {
     "data": {
      "text/plain": [
       "Loan_Status\n",
       "N    103154.545455\n",
       "Y    105730.627306\n",
       "Name: LoanAmount, dtype: float64"
      ]
     },
     "execution_count": 34,
     "metadata": {},
     "output_type": "execute_result"
    }
   ],
   "source": [
    "df.groupby(\"Loan_Status\")[\"LoanAmount\"].mean()"
   ]
  },
  {
   "cell_type": "code",
   "execution_count": 35,
   "id": "f0f3f688",
   "metadata": {
    "execution": {
     "iopub.execute_input": "2024-04-21T06:21:52.380907Z",
     "iopub.status.busy": "2024-04-21T06:21:52.379769Z",
     "iopub.status.idle": "2024-04-21T06:21:52.392615Z",
     "shell.execute_reply": "2024-04-21T06:21:52.391591Z"
    },
    "papermill": {
     "duration": 0.047416,
     "end_time": "2024-04-21T06:21:52.394773",
     "exception": false,
     "start_time": "2024-04-21T06:21:52.347357",
     "status": "completed"
    },
    "tags": []
   },
   "outputs": [
    {
     "data": {
      "text/plain": [
       "Loan_Status      \n",
       "N            0.50    106000.0\n",
       "             0.75    124750.0\n",
       "             0.90    135100.0\n",
       "Y            0.50    111000.0\n",
       "             0.75    128000.0\n",
       "             0.90    137000.0\n",
       "Name: LoanAmount, dtype: float64"
      ]
     },
     "execution_count": 35,
     "metadata": {},
     "output_type": "execute_result"
    }
   ],
   "source": [
    "df.groupby(\"Loan_Status\")[\"LoanAmount\"].quantile([0.5,0.75,0.9])"
   ]
  },
  {
   "cell_type": "code",
   "execution_count": 36,
   "id": "35cb48b8",
   "metadata": {
    "execution": {
     "iopub.execute_input": "2024-04-21T06:21:52.458360Z",
     "iopub.status.busy": "2024-04-21T06:21:52.457946Z",
     "iopub.status.idle": "2024-04-21T06:21:53.111645Z",
     "shell.execute_reply": "2024-04-21T06:21:53.110532Z"
    },
    "papermill": {
     "duration": 0.688708,
     "end_time": "2024-04-21T06:21:53.114402",
     "exception": false,
     "start_time": "2024-04-21T06:21:52.425694",
     "status": "completed"
    },
    "tags": []
   },
   "outputs": [
    {
     "data": {
      "image/png": "[encoded data removed]",
      "text/plain": [
       "<Figure size 1300x700 with 4 Axes>"
      ]
     },
     "metadata": {},
     "output_type": "display_data"
    }
   ],
   "source": [
    "plt.figure(figsize=(13,7))\n",
    "plt.subplot(2,2,1)\n",
    "plt.hist(df[\"LoanAmount\"],edgecolor=\"black\",color=\"skyblue\")\n",
    "plt.subplot(2,2,2)\n",
    "sns.boxplot(x = df[\"LoanAmount\"])\n",
    "plt.subplot(2,2,3)\n",
    "sns.barplot(x=df[\"Loan_Status\"],y=df[\"LoanAmount\"],palette=\"flare\")\n",
    "plt.subplot(2,2,4)\n",
    "sns.boxplot(x=df[\"Loan_Status\"],y=df[\"LoanAmount\"],palette=\"rocket\")\n",
    "plt.tight_layout()\n",
    "plt.show()"
   ]
  },
  {
   "cell_type": "markdown",
   "id": "69be5b3c",
   "metadata": {
    "papermill": {
     "duration": 0.031839,
     "end_time": "2024-04-21T06:21:53.179778",
     "exception": false,
     "start_time": "2024-04-21T06:21:53.147939",
     "status": "completed"
    },
    "tags": []
   },
   "source": [
    "* Somewhat we need higher loan amount to get loan approved."
   ]
  },
  {
   "cell_type": "markdown",
   "id": "b99b4e17",
   "metadata": {
    "papermill": {
     "duration": 0.031486,
     "end_time": "2024-04-21T06:21:53.243068",
     "exception": false,
     "start_time": "2024-04-21T06:21:53.211582",
     "status": "completed"
    },
    "tags": []
   },
   "source": [
    "* Loan Amount Term "
   ]
  },
  {
   "cell_type": "code",
   "execution_count": 37,
   "id": "3a1447de",
   "metadata": {
    "execution": {
     "iopub.execute_input": "2024-04-21T06:21:53.309890Z",
     "iopub.status.busy": "2024-04-21T06:21:53.309510Z",
     "iopub.status.idle": "2024-04-21T06:21:53.316189Z",
     "shell.execute_reply": "2024-04-21T06:21:53.315394Z"
    },
    "papermill": {
     "duration": 0.042995,
     "end_time": "2024-04-21T06:21:53.318126",
     "exception": false,
     "start_time": "2024-04-21T06:21:53.275131",
     "status": "completed"
    },
    "tags": []
   },
   "outputs": [
    {
     "data": {
      "text/plain": [
       "10"
      ]
     },
     "execution_count": 37,
     "metadata": {},
     "output_type": "execute_result"
    }
   ],
   "source": [
    "df[\"Loan_Amount_Term\"].nunique()"
   ]
  },
  {
   "cell_type": "markdown",
   "id": "11d32ffe",
   "metadata": {
    "papermill": {
     "duration": 0.031513,
     "end_time": "2024-04-21T06:21:53.382077",
     "exception": false,
     "start_time": "2024-04-21T06:21:53.350564",
     "status": "completed"
    },
    "tags": []
   },
   "source": [
    "* format of loan amount term is in months we can convert to years for more understanding "
   ]
  },
  {
   "cell_type": "code",
   "execution_count": 38,
   "id": "6585107e",
   "metadata": {
    "execution": {
     "iopub.execute_input": "2024-04-21T06:21:53.446925Z",
     "iopub.status.busy": "2024-04-21T06:21:53.446487Z",
     "iopub.status.idle": "2024-04-21T06:21:53.452350Z",
     "shell.execute_reply": "2024-04-21T06:21:53.451085Z"
    },
    "papermill": {
     "duration": 0.041167,
     "end_time": "2024-04-21T06:21:53.454570",
     "exception": false,
     "start_time": "2024-04-21T06:21:53.413403",
     "status": "completed"
    },
    "tags": []
   },
   "outputs": [],
   "source": [
    "df[\"Loan_Amount_Term\"] = df[\"Loan_Amount_Term\"]/12"
   ]
  },
  {
   "cell_type": "code",
   "execution_count": 39,
   "id": "96e4873f",
   "metadata": {
    "execution": {
     "iopub.execute_input": "2024-04-21T06:21:53.521820Z",
     "iopub.status.busy": "2024-04-21T06:21:53.521423Z",
     "iopub.status.idle": "2024-04-21T06:21:53.531428Z",
     "shell.execute_reply": "2024-04-21T06:21:53.530628Z"
    },
    "papermill": {
     "duration": 0.045625,
     "end_time": "2024-04-21T06:21:53.533416",
     "exception": false,
     "start_time": "2024-04-21T06:21:53.487791",
     "status": "completed"
    },
    "tags": []
   },
   "outputs": [
    {
     "data": {
      "text/plain": [
       "Loan_Amount_Term\n",
       "30.0    81.889764\n",
       "15.0     7.611549\n",
       "40.0     2.887139\n",
       "25.0     1.837270\n",
       "10.0     0.787402\n",
       "7.0      0.787402\n",
       "20.0     0.524934\n",
       "5.0      0.262467\n",
       "1.0      0.262467\n",
       "3.0      0.262467\n",
       "Name: count, dtype: float64"
      ]
     },
     "execution_count": 39,
     "metadata": {},
     "output_type": "execute_result"
    }
   ],
   "source": [
    "df[\"Loan_Amount_Term\"].value_counts() * 100.0/len(df)"
   ]
  },
  {
   "cell_type": "markdown",
   "id": "ecd5b4c3",
   "metadata": {
    "papermill": {
     "duration": 0.031533,
     "end_time": "2024-04-21T06:21:53.596560",
     "exception": false,
     "start_time": "2024-04-21T06:21:53.565027",
     "status": "completed"
    },
    "tags": []
   },
   "source": [
    "* So 90% of the loans are from only 3 category years (30,15,40)"
   ]
  },
  {
   "cell_type": "code",
   "execution_count": 40,
   "id": "7189155d",
   "metadata": {
    "execution": {
     "iopub.execute_input": "2024-04-21T06:21:53.661330Z",
     "iopub.status.busy": "2024-04-21T06:21:53.660982Z",
     "iopub.status.idle": "2024-04-21T06:21:53.674286Z",
     "shell.execute_reply": "2024-04-21T06:21:53.673078Z"
    },
    "papermill": {
     "duration": 0.048504,
     "end_time": "2024-04-21T06:21:53.676414",
     "exception": false,
     "start_time": "2024-04-21T06:21:53.627910",
     "status": "completed"
    },
    "tags": []
   },
   "outputs": [
    {
     "data": {
      "text/plain": [
       "Loan_Status  Loan_Amount_Term\n",
       "N            15.0                 10\n",
       "             30.0                 84\n",
       "             40.0                  7\n",
       "Y            15.0                 19\n",
       "             30.0                228\n",
       "             40.0                  4\n",
       "Name: Loan_Amount_Term, dtype: int64"
      ]
     },
     "execution_count": 40,
     "metadata": {},
     "output_type": "execute_result"
    }
   ],
   "source": [
    "grouped_counts = df[df[\"Loan_Amount_Term\"].isin([30,15,40])].groupby([\"Loan_Status\",\"Loan_Amount_Term\"])[\"Loan_Amount_Term\"].count()\n",
    "grouped_counts"
   ]
  },
  {
   "cell_type": "code",
   "execution_count": 41,
   "id": "50f693cc",
   "metadata": {
    "execution": {
     "iopub.execute_input": "2024-04-21T06:21:53.742126Z",
     "iopub.status.busy": "2024-04-21T06:21:53.741734Z",
     "iopub.status.idle": "2024-04-21T06:21:53.751313Z",
     "shell.execute_reply": "2024-04-21T06:21:53.750214Z"
    },
    "papermill": {
     "duration": 0.045658,
     "end_time": "2024-04-21T06:21:53.753454",
     "exception": false,
     "start_time": "2024-04-21T06:21:53.707796",
     "status": "completed"
    },
    "tags": []
   },
   "outputs": [
    {
     "data": {
      "text/plain": [
       "Loan_Status\n",
       "N    101\n",
       "Y    251\n",
       "Name: Loan_Amount_Term, dtype: int64"
      ]
     },
     "execution_count": 41,
     "metadata": {},
     "output_type": "execute_result"
    }
   ],
   "source": [
    "counts = df[df[\"Loan_Amount_Term\"].isin([30,15,40])].groupby(\"Loan_Status\")[\"Loan_Amount_Term\"].count()\n",
    "counts"
   ]
  },
  {
   "cell_type": "code",
   "execution_count": 42,
   "id": "0eec4bcc",
   "metadata": {
    "execution": {
     "iopub.execute_input": "2024-04-21T06:21:53.820053Z",
     "iopub.status.busy": "2024-04-21T06:21:53.819644Z",
     "iopub.status.idle": "2024-04-21T06:21:53.830312Z",
     "shell.execute_reply": "2024-04-21T06:21:53.829173Z"
    },
    "papermill": {
     "duration": 0.04622,
     "end_time": "2024-04-21T06:21:53.832238",
     "exception": false,
     "start_time": "2024-04-21T06:21:53.786018",
     "status": "completed"
    },
    "tags": []
   },
   "outputs": [
    {
     "data": {
      "text/plain": [
       "Loan_Status  Loan_Amount_Term\n",
       "N            15.0                 9.900990\n",
       "             30.0                83.168317\n",
       "             40.0                 6.930693\n",
       "Y            15.0                 7.569721\n",
       "             30.0                90.836653\n",
       "             40.0                 1.593625\n",
       "Name: Loan_Amount_Term, dtype: float64"
      ]
     },
     "execution_count": 42,
     "metadata": {},
     "output_type": "execute_result"
    }
   ],
   "source": [
    "grouped_counts * 100.0/counts"
   ]
  },
  {
   "cell_type": "markdown",
   "id": "1fcd22e8",
   "metadata": {
    "papermill": {
     "duration": 0.031505,
     "end_time": "2024-04-21T06:21:53.895733",
     "exception": false,
     "start_time": "2024-04-21T06:21:53.864228",
     "status": "completed"
    },
    "tags": []
   },
   "source": [
    "* Self Employed "
   ]
  },
  {
   "cell_type": "code",
   "execution_count": 43,
   "id": "53f66094",
   "metadata": {
    "execution": {
     "iopub.execute_input": "2024-04-21T06:21:53.963630Z",
     "iopub.status.busy": "2024-04-21T06:21:53.963268Z",
     "iopub.status.idle": "2024-04-21T06:21:54.370581Z",
     "shell.execute_reply": "2024-04-21T06:21:54.369502Z"
    },
    "papermill": {
     "duration": 0.444397,
     "end_time": "2024-04-21T06:21:54.372727",
     "exception": false,
     "start_time": "2024-04-21T06:21:53.928330",
     "status": "completed"
    },
    "tags": []
   },
   "outputs": [
    {
     "data": {
      "image/png": "[encoded data removed]",
      "text/plain": [
       "<Figure size 1300x700 with 2 Axes>"
      ]
     },
     "metadata": {},
     "output_type": "display_data"
    }
   ],
   "source": [
    "plt.figure(figsize=(13,7))\n",
    "plt.subplot(2,2,1)\n",
    "df[\"Self_Employed\"].value_counts().plot(kind=\"bar\",color=sns.color_palette(\"flare\"))\n",
    "plt.subplot(2,2,2)\n",
    "df[\"Self_Employed\"].value_counts().plot(kind=\"pie\",radius=1.25,autopct=\"%0.2f%%\",colors=[\"skyblue\",\"lightgreen\"],explode=[0,0.1])\n",
    "plt.tight_layout()\n",
    "plt.show()"
   ]
  },
  {
   "cell_type": "code",
   "execution_count": 44,
   "id": "f31220db",
   "metadata": {
    "execution": {
     "iopub.execute_input": "2024-04-21T06:21:54.439867Z",
     "iopub.status.busy": "2024-04-21T06:21:54.439479Z",
     "iopub.status.idle": "2024-04-21T06:21:54.452161Z",
     "shell.execute_reply": "2024-04-21T06:21:54.451130Z"
    },
    "papermill": {
     "duration": 0.048935,
     "end_time": "2024-04-21T06:21:54.454246",
     "exception": false,
     "start_time": "2024-04-21T06:21:54.405311",
     "status": "completed"
    },
    "tags": []
   },
   "outputs": [
    {
     "data": {
      "text/plain": [
       "Self_Employed  Loan_Status\n",
       "No             N              29.230769\n",
       "               Y              70.769231\n",
       "Yes            N              31.428571\n",
       "               Y              68.571429\n",
       "dtype: float64"
      ]
     },
     "execution_count": 44,
     "metadata": {},
     "output_type": "execute_result"
    }
   ],
   "source": [
    "df.groupby([\"Self_Employed\",\"Loan_Status\"])[\"Loan_Status\"].count() * 100.0/df.groupby([\"Self_Employed\"]).size()"
   ]
  },
  {
   "cell_type": "markdown",
   "id": "ce06d66a",
   "metadata": {
    "papermill": {
     "duration": 0.033136,
     "end_time": "2024-04-21T06:21:54.520014",
     "exception": false,
     "start_time": "2024-04-21T06:21:54.486878",
     "status": "completed"
    },
    "tags": []
   },
   "source": [
    "* Property Area "
   ]
  },
  {
   "cell_type": "code",
   "execution_count": 45,
   "id": "66659c65",
   "metadata": {
    "execution": {
     "iopub.execute_input": "2024-04-21T06:21:54.587938Z",
     "iopub.status.busy": "2024-04-21T06:21:54.587520Z",
     "iopub.status.idle": "2024-04-21T06:21:54.601189Z",
     "shell.execute_reply": "2024-04-21T06:21:54.599816Z"
    },
    "papermill": {
     "duration": 0.051051,
     "end_time": "2024-04-21T06:21:54.603589",
     "exception": false,
     "start_time": "2024-04-21T06:21:54.552538",
     "status": "completed"
    },
    "tags": []
   },
   "outputs": [
    {
     "data": {
      "text/plain": [
       "Property_Area  Loan_Status\n",
       "Rural          N              38.679245\n",
       "               Y              61.320755\n",
       "Semiurban      N              20.134228\n",
       "               Y              79.865772\n",
       "Urban          N              30.952381\n",
       "               Y              69.047619\n",
       "dtype: float64"
      ]
     },
     "execution_count": 45,
     "metadata": {},
     "output_type": "execute_result"
    }
   ],
   "source": [
    "df.groupby([\"Property_Area\",\"Loan_Status\"])[\"Loan_Status\"].count() * 100.0/df.groupby([\"Property_Area\"]).size()"
   ]
  },
  {
   "cell_type": "markdown",
   "id": "d0b898ce",
   "metadata": {
    "papermill": {
     "duration": 0.033098,
     "end_time": "2024-04-21T06:21:54.670229",
     "exception": false,
     "start_time": "2024-04-21T06:21:54.637131",
     "status": "completed"
    },
    "tags": []
   },
   "source": [
    "* Credit History "
   ]
  },
  {
   "cell_type": "code",
   "execution_count": 46,
   "id": "3e82478b",
   "metadata": {
    "execution": {
     "iopub.execute_input": "2024-04-21T06:21:54.738383Z",
     "iopub.status.busy": "2024-04-21T06:21:54.737996Z",
     "iopub.status.idle": "2024-04-21T06:21:55.147427Z",
     "shell.execute_reply": "2024-04-21T06:21:55.146178Z"
    },
    "papermill": {
     "duration": 0.446221,
     "end_time": "2024-04-21T06:21:55.149874",
     "exception": false,
     "start_time": "2024-04-21T06:21:54.703653",
     "status": "completed"
    },
    "tags": []
   },
   "outputs": [
    {
     "data": {
      "image/png": "[encoded data removed]",
      "text/plain": [
       "<Figure size 1000x600 with 3 Axes>"
      ]
     },
     "metadata": {},
     "output_type": "display_data"
    }
   ],
   "source": [
    "plt.figure(figsize=(10,6))\n",
    "plt.subplot(2,2,1)\n",
    "sns.countplot(x=df[\"Credit_History\"],palette=\"mako\")\n",
    "plt.subplot(2,2,2)\n",
    "df[\"Credit_History\"].value_counts().plot(kind=\"pie\",radius=1.25,autopct=\"%0.2f%%\",colors=[\"skyblue\",\"lightgreen\"],explode=[0,0.1])\n",
    "plt.subplot(2,2,3)\n",
    "sns.countplot(x=df[\"Credit_History\"],hue=df[\"Loan_Status\"],palette=\"mako\")\n",
    "plt.tight_layout()\n",
    "plt.show()"
   ]
  },
  {
   "cell_type": "code",
   "execution_count": 47,
   "id": "30f31c18",
   "metadata": {
    "execution": {
     "iopub.execute_input": "2024-04-21T06:21:55.218927Z",
     "iopub.status.busy": "2024-04-21T06:21:55.218518Z",
     "iopub.status.idle": "2024-04-21T06:21:55.231075Z",
     "shell.execute_reply": "2024-04-21T06:21:55.230105Z"
    },
    "papermill": {
     "duration": 0.049676,
     "end_time": "2024-04-21T06:21:55.233023",
     "exception": false,
     "start_time": "2024-04-21T06:21:55.183347",
     "status": "completed"
    },
    "tags": []
   },
   "outputs": [
    {
     "data": {
      "text/plain": [
       "Credit_History  Loan_Status\n",
       "0.0             N              94.736842\n",
       "                Y               5.263158\n",
       "1.0             N              17.687075\n",
       "                Y              82.312925\n",
       "dtype: float64"
      ]
     },
     "execution_count": 47,
     "metadata": {},
     "output_type": "execute_result"
    }
   ],
   "source": [
    "df.groupby([\"Credit_History\",\"Loan_Status\"])[\"Loan_Status\"].count() * 100.0/df.groupby([\"Credit_History\"]).size()"
   ]
  },
  {
   "cell_type": "markdown",
   "id": "84694a4b",
   "metadata": {
    "papermill": {
     "duration": 0.034104,
     "end_time": "2024-04-21T06:21:55.301941",
     "exception": false,
     "start_time": "2024-04-21T06:21:55.267837",
     "status": "completed"
    },
    "tags": []
   },
   "source": [
    "* Those applicants have positive credit history, get loan approved easily."
   ]
  },
  {
   "cell_type": "markdown",
   "id": "f524ca6f",
   "metadata": {
    "papermill": {
     "duration": 0.032858,
     "end_time": "2024-04-21T06:21:55.368060",
     "exception": false,
     "start_time": "2024-04-21T06:21:55.335202",
     "status": "completed"
    },
    "tags": []
   },
   "source": [
    "### Missing Values Treatment "
   ]
  },
  {
   "cell_type": "code",
   "execution_count": 48,
   "id": "eafb43fc",
   "metadata": {
    "execution": {
     "iopub.execute_input": "2024-04-21T06:21:55.436903Z",
     "iopub.status.busy": "2024-04-21T06:21:55.436277Z",
     "iopub.status.idle": "2024-04-21T06:21:55.445241Z",
     "shell.execute_reply": "2024-04-21T06:21:55.444222Z"
    },
    "papermill": {
     "duration": 0.046063,
     "end_time": "2024-04-21T06:21:55.447616",
     "exception": false,
     "start_time": "2024-04-21T06:21:55.401553",
     "status": "completed"
    },
    "tags": []
   },
   "outputs": [
    {
     "data": {
      "text/plain": [
       "Gender                True\n",
       "Married              False\n",
       "Dependents            True\n",
       "Education            False\n",
       "Self_Employed         True\n",
       "ApplicantIncome      False\n",
       "CoapplicantIncome    False\n",
       "LoanAmount           False\n",
       "Loan_Amount_Term      True\n",
       "Credit_History        True\n",
       "Property_Area        False\n",
       "Loan_Status          False\n",
       "dtype: bool"
      ]
     },
     "execution_count": 48,
     "metadata": {},
     "output_type": "execute_result"
    }
   ],
   "source": [
    "df.isnull().sum()>0"
   ]
  },
  {
   "cell_type": "code",
   "execution_count": 49,
   "id": "26b9698a",
   "metadata": {
    "execution": {
     "iopub.execute_input": "2024-04-21T06:21:55.516698Z",
     "iopub.status.busy": "2024-04-21T06:21:55.516339Z",
     "iopub.status.idle": "2024-04-21T06:21:55.520733Z",
     "shell.execute_reply": "2024-04-21T06:21:55.519637Z"
    },
    "papermill": {
     "duration": 0.041735,
     "end_time": "2024-04-21T06:21:55.522929",
     "exception": false,
     "start_time": "2024-04-21T06:21:55.481194",
     "status": "completed"
    },
    "tags": []
   },
   "outputs": [],
   "source": [
    "n_col = [\"Gender\",\"Dependents\",\"Self_Employed\",\"Loan_Amount_Term\",\"Credit_History\"]"
   ]
  },
  {
   "cell_type": "code",
   "execution_count": 50,
   "id": "3f967c39",
   "metadata": {
    "execution": {
     "iopub.execute_input": "2024-04-21T06:21:55.591417Z",
     "iopub.status.busy": "2024-04-21T06:21:55.591038Z",
     "iopub.status.idle": "2024-04-21T06:21:55.599129Z",
     "shell.execute_reply": "2024-04-21T06:21:55.597860Z"
    },
    "papermill": {
     "duration": 0.045142,
     "end_time": "2024-04-21T06:21:55.601274",
     "exception": false,
     "start_time": "2024-04-21T06:21:55.556132",
     "status": "completed"
    },
    "tags": []
   },
   "outputs": [],
   "source": [
    "for col in n_col:\n",
    "    mode_value = df[col].mode()[0]\n",
    "    df[col].fillna(mode_value,inplace=True)"
   ]
  },
  {
   "cell_type": "code",
   "execution_count": 51,
   "id": "cf853dcb",
   "metadata": {
    "execution": {
     "iopub.execute_input": "2024-04-21T06:21:55.670414Z",
     "iopub.status.busy": "2024-04-21T06:21:55.670057Z",
     "iopub.status.idle": "2024-04-21T06:21:55.677669Z",
     "shell.execute_reply": "2024-04-21T06:21:55.676892Z"
    },
    "papermill": {
     "duration": 0.044696,
     "end_time": "2024-04-21T06:21:55.679641",
     "exception": false,
     "start_time": "2024-04-21T06:21:55.634945",
     "status": "completed"
    },
    "tags": []
   },
   "outputs": [
    {
     "data": {
      "text/plain": [
       "Gender               False\n",
       "Married              False\n",
       "Dependents           False\n",
       "Education            False\n",
       "Self_Employed        False\n",
       "ApplicantIncome      False\n",
       "CoapplicantIncome    False\n",
       "LoanAmount           False\n",
       "Loan_Amount_Term     False\n",
       "Credit_History       False\n",
       "Property_Area        False\n",
       "Loan_Status          False\n",
       "dtype: bool"
      ]
     },
     "execution_count": 51,
     "metadata": {},
     "output_type": "execute_result"
    }
   ],
   "source": [
    "df.isnull().any()"
   ]
  },
  {
   "cell_type": "markdown",
   "id": "cc456343",
   "metadata": {
    "papermill": {
     "duration": 0.033689,
     "end_time": "2024-04-21T06:21:55.747472",
     "exception": false,
     "start_time": "2024-04-21T06:21:55.713783",
     "status": "completed"
    },
    "tags": []
   },
   "source": [
    "### Feature Transformation"
   ]
  },
  {
   "cell_type": "code",
   "execution_count": 52,
   "id": "5196bda5",
   "metadata": {
    "execution": {
     "iopub.execute_input": "2024-04-21T06:21:55.818110Z",
     "iopub.status.busy": "2024-04-21T06:21:55.817194Z",
     "iopub.status.idle": "2024-04-21T06:21:55.824194Z",
     "shell.execute_reply": "2024-04-21T06:21:55.823450Z"
    },
    "papermill": {
     "duration": 0.044412,
     "end_time": "2024-04-21T06:21:55.826078",
     "exception": false,
     "start_time": "2024-04-21T06:21:55.781666",
     "status": "completed"
    },
    "tags": []
   },
   "outputs": [
    {
     "data": {
      "text/plain": [
       "Gender                object\n",
       "Married               object\n",
       "Dependents            object\n",
       "Education             object\n",
       "Self_Employed         object\n",
       "ApplicantIncome        int64\n",
       "CoapplicantIncome    float64\n",
       "LoanAmount           float64\n",
       "Loan_Amount_Term     float64\n",
       "Credit_History       float64\n",
       "Property_Area         object\n",
       "Loan_Status           object\n",
       "dtype: object"
      ]
     },
     "execution_count": 52,
     "metadata": {},
     "output_type": "execute_result"
    }
   ],
   "source": [
    "df.dtypes"
   ]
  },
  {
   "cell_type": "code",
   "execution_count": 53,
   "id": "f828c7e4",
   "metadata": {
    "execution": {
     "iopub.execute_input": "2024-04-21T06:21:55.898057Z",
     "iopub.status.busy": "2024-04-21T06:21:55.897363Z",
     "iopub.status.idle": "2024-04-21T06:21:55.905108Z",
     "shell.execute_reply": "2024-04-21T06:21:55.904322Z"
    },
    "papermill": {
     "duration": 0.045575,
     "end_time": "2024-04-21T06:21:55.907077",
     "exception": false,
     "start_time": "2024-04-21T06:21:55.861502",
     "status": "completed"
    },
    "tags": []
   },
   "outputs": [
    {
     "data": {
      "text/plain": [
       "Property_Area\n",
       "Semiurban    149\n",
       "Urban        126\n",
       "Rural        106\n",
       "Name: count, dtype: int64"
      ]
     },
     "execution_count": 53,
     "metadata": {},
     "output_type": "execute_result"
    }
   ],
   "source": [
    "df[\"Property_Area\"].value_counts()"
   ]
  },
  {
   "cell_type": "code",
   "execution_count": 54,
   "id": "874d2459",
   "metadata": {
    "execution": {
     "iopub.execute_input": "2024-04-21T06:21:55.980558Z",
     "iopub.status.busy": "2024-04-21T06:21:55.980131Z",
     "iopub.status.idle": "2024-04-21T06:21:55.993178Z",
     "shell.execute_reply": "2024-04-21T06:21:55.991700Z"
    },
    "papermill": {
     "duration": 0.052035,
     "end_time": "2024-04-21T06:21:55.995715",
     "exception": false,
     "start_time": "2024-04-21T06:21:55.943680",
     "status": "completed"
    },
    "tags": []
   },
   "outputs": [],
   "source": [
    "df[\"Gender\"] = df[\"Gender\"].apply(lambda x:1 if x==\"Male\" else 0 )\n",
    "df[\"Education\"] = df[\"Education\"].apply(lambda x:1 if x==\"Graduate\" else 0 )\n",
    "df[\"Married\"] = df[\"Married\"].apply(lambda x:1 if x==\"Yes\" else 0 )\n",
    "df[\"Loan_Status\"] = df[\"Loan_Status\"].apply(lambda x:1 if x==\"Y\" else 0 )\n",
    "df[\"Self_Employed\"] = df[\"Self_Employed\"].apply(lambda x:1 if x==\"Yes\" else 0 )\n",
    "df[\"Property_Area\"] = df[\"Property_Area\"].map({\"Rural\":0,\"Semiurban\":1,\"Urban\":2})"
   ]
  },
  {
   "cell_type": "code",
   "execution_count": 55,
   "id": "bbbeaadf",
   "metadata": {
    "execution": {
     "iopub.execute_input": "2024-04-21T06:21:56.067638Z",
     "iopub.status.busy": "2024-04-21T06:21:56.067267Z",
     "iopub.status.idle": "2024-04-21T06:21:56.073764Z",
     "shell.execute_reply": "2024-04-21T06:21:56.072544Z"
    },
    "papermill": {
     "duration": 0.044807,
     "end_time": "2024-04-21T06:21:56.076191",
     "exception": false,
     "start_time": "2024-04-21T06:21:56.031384",
     "status": "completed"
    },
    "tags": []
   },
   "outputs": [],
   "source": [
    "df[\"Dependents\"] = df[\"Dependents\"].str[0].astype(\"int\")"
   ]
  },
  {
   "cell_type": "code",
   "execution_count": 56,
   "id": "dfaeaa2c",
   "metadata": {
    "execution": {
     "iopub.execute_input": "2024-04-21T06:21:56.146418Z",
     "iopub.status.busy": "2024-04-21T06:21:56.146022Z",
     "iopub.status.idle": "2024-04-21T06:21:56.154482Z",
     "shell.execute_reply": "2024-04-21T06:21:56.153293Z"
    },
    "papermill": {
     "duration": 0.046531,
     "end_time": "2024-04-21T06:21:56.156596",
     "exception": false,
     "start_time": "2024-04-21T06:21:56.110065",
     "status": "completed"
    },
    "tags": []
   },
   "outputs": [
    {
     "data": {
      "text/plain": [
       "Gender                 int64\n",
       "Married                int64\n",
       "Dependents             int64\n",
       "Education              int64\n",
       "Self_Employed          int64\n",
       "ApplicantIncome        int64\n",
       "CoapplicantIncome    float64\n",
       "LoanAmount           float64\n",
       "Loan_Amount_Term     float64\n",
       "Credit_History       float64\n",
       "Property_Area          int64\n",
       "Loan_Status            int64\n",
       "dtype: object"
      ]
     },
     "execution_count": 56,
     "metadata": {},
     "output_type": "execute_result"
    }
   ],
   "source": [
    "df.dtypes "
   ]
  },
  {
   "cell_type": "markdown",
   "id": "48cbeacc",
   "metadata": {
    "papermill": {
     "duration": 0.035487,
     "end_time": "2024-04-21T06:21:56.227988",
     "exception": false,
     "start_time": "2024-04-21T06:21:56.192501",
     "status": "completed"
    },
    "tags": []
   },
   "source": [
    "### Feature Importance "
   ]
  },
  {
   "cell_type": "code",
   "execution_count": 57,
   "id": "cd0760a4",
   "metadata": {
    "execution": {
     "iopub.execute_input": "2024-04-21T06:21:56.299713Z",
     "iopub.status.busy": "2024-04-21T06:21:56.299343Z",
     "iopub.status.idle": "2024-04-21T06:21:56.305537Z",
     "shell.execute_reply": "2024-04-21T06:21:56.304381Z"
    },
    "papermill": {
     "duration": 0.045954,
     "end_time": "2024-04-21T06:21:56.307715",
     "exception": false,
     "start_time": "2024-04-21T06:21:56.261761",
     "status": "completed"
    },
    "tags": []
   },
   "outputs": [],
   "source": [
    "X = df.drop(\"Loan_Status\",axis=1)\n",
    "y = df[\"Loan_Status\"]"
   ]
  },
  {
   "cell_type": "code",
   "execution_count": 58,
   "id": "f41c43b0",
   "metadata": {
    "execution": {
     "iopub.execute_input": "2024-04-21T06:21:56.378968Z",
     "iopub.status.busy": "2024-04-21T06:21:56.378560Z",
     "iopub.status.idle": "2024-04-21T06:21:56.934148Z",
     "shell.execute_reply": "2024-04-21T06:21:56.933206Z"
    },
    "papermill": {
     "duration": 0.594109,
     "end_time": "2024-04-21T06:21:56.936582",
     "exception": false,
     "start_time": "2024-04-21T06:21:56.342473",
     "status": "completed"
    },
    "tags": []
   },
   "outputs": [],
   "source": [
    "from sklearn.ensemble import RandomForestClassifier \n",
    "from sklearn.tree import DecisionTreeClassifier"
   ]
  },
  {
   "cell_type": "code",
   "execution_count": 59,
   "id": "2c4f315f",
   "metadata": {
    "execution": {
     "iopub.execute_input": "2024-04-21T06:21:57.005806Z",
     "iopub.status.busy": "2024-04-21T06:21:57.005436Z",
     "iopub.status.idle": "2024-04-21T06:21:57.207198Z",
     "shell.execute_reply": "2024-04-21T06:21:57.206145Z"
    },
    "papermill": {
     "duration": 0.239175,
     "end_time": "2024-04-21T06:21:57.209481",
     "exception": false,
     "start_time": "2024-04-21T06:21:56.970306",
     "status": "completed"
    },
    "tags": []
   },
   "outputs": [
    {
     "data": {
      "text/html": [
       "<style>#sk-container-id-1 {color: black;background-color: white;}#sk-container-id-1 pre{padding: 0;}#sk-container-id-1 div.sk-toggleable {background-color: white;}#sk-container-id-1 label.sk-toggleable__label {cursor: pointer;display: block;width: 100%;margin-bottom: 0;padding: 0.3em;box-sizing: border-box;text-align: center;}#sk-container-id-1 label.sk-toggleable__label-arrow:before {content: \"▸\";float: left;margin-right: 0.25em;color: #696969;}#sk-container-id-1 label.sk-toggleable__label-arrow:hover:before {color: black;}#sk-container-id-1 div.sk-estimator:hover label.sk-toggleable__label-arrow:before {color: black;}#sk-container-id-1 div.sk-toggleable__content {max-height: 0;max-width: 0;overflow: hidden;text-align: left;background-color: #f0f8ff;}#sk-container-id-1 div.sk-toggleable__content pre {margin: 0.2em;color: black;border-radius: 0.25em;background-color: #f0f8ff;}#sk-container-id-1 input.sk-toggleable__control:checked~div.sk-toggleable__content {max-height: 200px;max-width: 100%;overflow: auto;}#sk-container-id-1 input.sk-toggleable__control:checked~label.sk-toggleable__label-arrow:before {content: \"▾\";}#sk-container-id-1 div.sk-estimator input.sk-toggleable__control:checked~label.sk-toggleable__label {background-color: #d4ebff;}#sk-container-id-1 div.sk-label input.sk-toggleable__control:checked~label.sk-toggleable__label {background-color: #d4ebff;}#sk-container-id-1 input.sk-hidden--visually {border: 0;clip: rect(1px 1px 1px 1px);clip: rect(1px, 1px, 1px, 1px);height: 1px;margin: -1px;overflow: hidden;padding: 0;position: absolute;width: 1px;}#sk-container-id-1 div.sk-estimator {font-family: monospace;background-color: #f0f8ff;border: 1px dotted black;border-radius: 0.25em;box-sizing: border-box;margin-bottom: 0.5em;}#sk-container-id-1 div.sk-estimator:hover {background-color: #d4ebff;}#sk-container-id-1 div.sk-parallel-item::after {content: \"\";width: 100%;border-bottom: 1px solid gray;flex-grow: 1;}#sk-container-id-1 div.sk-label:hover label.sk-toggleable__label {background-color: #d4ebff;}#sk-container-id-1 div.sk-serial::before {content: \"\";position: absolute;border-left: 1px solid gray;box-sizing: border-box;top: 0;bottom: 0;left: 50%;z-index: 0;}#sk-container-id-1 div.sk-serial {display: flex;flex-direction: column;align-items: center;background-color: white;padding-right: 0.2em;padding-left: 0.2em;position: relative;}#sk-container-id-1 div.sk-item {position: relative;z-index: 1;}#sk-container-id-1 div.sk-parallel {display: flex;align-items: stretch;justify-content: center;background-color: white;position: relative;}#sk-container-id-1 div.sk-item::before, #sk-container-id-1 div.sk-parallel-item::before {content: \"\";position: absolute;border-left: 1px solid gray;box-sizing: border-box;top: 0;bottom: 0;left: 50%;z-index: -1;}#sk-container-id-1 div.sk-parallel-item {display: flex;flex-direction: column;z-index: 1;position: relative;background-color: white;}#sk-container-id-1 div.sk-parallel-item:first-child::after {align-self: flex-end;width: 50%;}#sk-container-id-1 div.sk-parallel-item:last-child::after {align-self: flex-start;width: 50%;}#sk-container-id-1 div.sk-parallel-item:only-child::after {width: 0;}#sk-container-id-1 div.sk-dashed-wrapped {border: 1px dashed gray;margin: 0 0.4em 0.5em 0.4em;box-sizing: border-box;padding-bottom: 0.4em;background-color: white;}#sk-container-id-1 div.sk-label label {font-family: monospace;font-weight: bold;display: inline-block;line-height: 1.2em;}#sk-container-id-1 div.sk-label-container {text-align: center;}#sk-container-id-1 div.sk-container {/* jupyter's `normalize.less` sets `[hidden] { display: none; }` but bootstrap.min.css set `[hidden] { display: none !important; }` so we also need the `!important` here to be able to override the default hidden behavior on the sphinx rendered scikit-learn.org. See: https://github.com/scikit-learn/scikit-learn/issues/21755 */display: inline-block !important;position: relative;}#sk-container-id-1 div.sk-text-repr-fallback {display: none;}</style><div id=\"sk-container-id-1\" class=\"sk-top-container\"><div class=\"sk-text-repr-fallback\"><pre>RandomForestClassifier()</pre><b>In a Jupyter environment, please rerun this cell to show the HTML representation or trust the notebook. <br />On GitHub, the HTML representation is unable to render, please try loading this page with nbviewer.org.</b></div><div class=\"sk-container\" hidden><div class=\"sk-item\"><div class=\"sk-estimator sk-toggleable\"><input class=\"sk-toggleable__control sk-hidden--visually\" id=\"sk-estimator-id-1\" type=\"checkbox\" checked><label for=\"sk-estimator-id-1\" class=\"sk-toggleable__label sk-toggleable__label-arrow\">RandomForestClassifier</label><div class=\"sk-toggleable__content\"><pre>RandomForestClassifier()</pre></div></div></div></div></div>"
      ],
      "text/plain": [
       "RandomForestClassifier()"
      ]
     },
     "execution_count": 59,
     "metadata": {},
     "output_type": "execute_result"
    }
   ],
   "source": [
    "rf_feature_imp = RandomForestClassifier()\n",
    "rf_feature_imp.fit(X,y)"
   ]
  },
  {
   "cell_type": "code",
   "execution_count": 60,
   "id": "e5fe67d5",
   "metadata": {
    "execution": {
     "iopub.execute_input": "2024-04-21T06:21:57.281213Z",
     "iopub.status.busy": "2024-04-21T06:21:57.280830Z",
     "iopub.status.idle": "2024-04-21T06:21:57.291118Z",
     "shell.execute_reply": "2024-04-21T06:21:57.290247Z"
    },
    "papermill": {
     "duration": 0.048778,
     "end_time": "2024-04-21T06:21:57.293242",
     "exception": false,
     "start_time": "2024-04-21T06:21:57.244464",
     "status": "completed"
    },
    "tags": []
   },
   "outputs": [],
   "source": [
    "feature_imp_list = list(rf_feature_imp.feature_importances_)"
   ]
  },
  {
   "cell_type": "code",
   "execution_count": 61,
   "id": "1ac55669",
   "metadata": {
    "execution": {
     "iopub.execute_input": "2024-04-21T06:21:57.366391Z",
     "iopub.status.busy": "2024-04-21T06:21:57.365983Z",
     "iopub.status.idle": "2024-04-21T06:21:57.371845Z",
     "shell.execute_reply": "2024-04-21T06:21:57.370588Z"
    },
    "papermill": {
     "duration": 0.04507,
     "end_time": "2024-04-21T06:21:57.374455",
     "exception": false,
     "start_time": "2024-04-21T06:21:57.329385",
     "status": "completed"
    },
    "tags": []
   },
   "outputs": [],
   "source": [
    "feature_imp_df = pd.DataFrame({\"features\":X.columns[:],\"feature_importance\":feature_imp_list})"
   ]
  },
  {
   "cell_type": "code",
   "execution_count": 62,
   "id": "e34197ea",
   "metadata": {
    "execution": {
     "iopub.execute_input": "2024-04-21T06:21:57.446576Z",
     "iopub.status.busy": "2024-04-21T06:21:57.446168Z",
     "iopub.status.idle": "2024-04-21T06:21:57.456778Z",
     "shell.execute_reply": "2024-04-21T06:21:57.455791Z"
    },
    "papermill": {
     "duration": 0.049384,
     "end_time": "2024-04-21T06:21:57.458926",
     "exception": false,
     "start_time": "2024-04-21T06:21:57.409542",
     "status": "completed"
    },
    "tags": []
   },
   "outputs": [
    {
     "data": {
      "text/html": [
       "<div>\n",
       "<style scoped>\n",
       "    .dataframe tbody tr th:only-of-type {\n",
       "        vertical-align: middle;\n",
       "    }\n",
       "\n",
       "    .dataframe tbody tr th {\n",
       "        vertical-align: top;\n",
       "    }\n",
       "\n",
       "    .dataframe thead th {\n",
       "        text-align: right;\n",
       "    }\n",
       "</style>\n",
       "<table border=\"1\" class=\"dataframe\">\n",
       "  <thead>\n",
       "    <tr style=\"text-align: right;\">\n",
       "      <th></th>\n",
       "      <th>features</th>\n",
       "      <th>feature_importance</th>\n",
       "    </tr>\n",
       "  </thead>\n",
       "  <tbody>\n",
       "    <tr>\n",
       "      <th>9</th>\n",
       "      <td>Credit_History</td>\n",
       "      <td>0.327715</td>\n",
       "    </tr>\n",
       "    <tr>\n",
       "      <th>5</th>\n",
       "      <td>ApplicantIncome</td>\n",
       "      <td>0.184171</td>\n",
       "    </tr>\n",
       "    <tr>\n",
       "      <th>7</th>\n",
       "      <td>LoanAmount</td>\n",
       "      <td>0.164765</td>\n",
       "    </tr>\n",
       "    <tr>\n",
       "      <th>6</th>\n",
       "      <td>CoapplicantIncome</td>\n",
       "      <td>0.101857</td>\n",
       "    </tr>\n",
       "    <tr>\n",
       "      <th>8</th>\n",
       "      <td>Loan_Amount_Term</td>\n",
       "      <td>0.047642</td>\n",
       "    </tr>\n",
       "    <tr>\n",
       "      <th>10</th>\n",
       "      <td>Property_Area</td>\n",
       "      <td>0.045920</td>\n",
       "    </tr>\n",
       "    <tr>\n",
       "      <th>2</th>\n",
       "      <td>Dependents</td>\n",
       "      <td>0.041120</td>\n",
       "    </tr>\n",
       "    <tr>\n",
       "      <th>3</th>\n",
       "      <td>Education</td>\n",
       "      <td>0.025974</td>\n",
       "    </tr>\n",
       "    <tr>\n",
       "      <th>1</th>\n",
       "      <td>Married</td>\n",
       "      <td>0.023236</td>\n",
       "    </tr>\n",
       "    <tr>\n",
       "      <th>0</th>\n",
       "      <td>Gender</td>\n",
       "      <td>0.021541</td>\n",
       "    </tr>\n",
       "    <tr>\n",
       "      <th>4</th>\n",
       "      <td>Self_Employed</td>\n",
       "      <td>0.016059</td>\n",
       "    </tr>\n",
       "  </tbody>\n",
       "</table>\n",
       "</div>"
      ],
      "text/plain": [
       "             features  feature_importance\n",
       "9      Credit_History            0.327715\n",
       "5     ApplicantIncome            0.184171\n",
       "7          LoanAmount            0.164765\n",
       "6   CoapplicantIncome            0.101857\n",
       "8    Loan_Amount_Term            0.047642\n",
       "10      Property_Area            0.045920\n",
       "2          Dependents            0.041120\n",
       "3           Education            0.025974\n",
       "1             Married            0.023236\n",
       "0              Gender            0.021541\n",
       "4       Self_Employed            0.016059"
      ]
     },
     "execution_count": 62,
     "metadata": {},
     "output_type": "execute_result"
    }
   ],
   "source": [
    "feature_imp_df.sort_values(by=\"feature_importance\",ascending=False)"
   ]
  },
  {
   "cell_type": "markdown",
   "id": "04ddae53",
   "metadata": {
    "papermill": {
     "duration": 0.035601,
     "end_time": "2024-04-21T06:21:57.529346",
     "exception": false,
     "start_time": "2024-04-21T06:21:57.493745",
     "status": "completed"
    },
    "tags": []
   },
   "source": [
    "* Credit history is very important feature for our prediction "
   ]
  },
  {
   "cell_type": "markdown",
   "id": "46ae102f",
   "metadata": {
    "papermill": {
     "duration": 0.034816,
     "end_time": "2024-04-21T06:21:57.658907",
     "exception": false,
     "start_time": "2024-04-21T06:21:57.624091",
     "status": "completed"
    },
    "tags": []
   },
   "source": [
    "### Train Test Split "
   ]
  },
  {
   "cell_type": "code",
   "execution_count": 63,
   "id": "858c5034",
   "metadata": {
    "execution": {
     "iopub.execute_input": "2024-04-21T06:21:57.731090Z",
     "iopub.status.busy": "2024-04-21T06:21:57.730658Z",
     "iopub.status.idle": "2024-04-21T06:21:57.735238Z",
     "shell.execute_reply": "2024-04-21T06:21:57.734402Z"
    },
    "papermill": {
     "duration": 0.042833,
     "end_time": "2024-04-21T06:21:57.737202",
     "exception": false,
     "start_time": "2024-04-21T06:21:57.694369",
     "status": "completed"
    },
    "tags": []
   },
   "outputs": [],
   "source": [
    "from sklearn.model_selection import train_test_split "
   ]
  },
  {
   "cell_type": "code",
   "execution_count": 64,
   "id": "b97e52d1",
   "metadata": {
    "execution": {
     "iopub.execute_input": "2024-04-21T06:21:57.808864Z",
     "iopub.status.busy": "2024-04-21T06:21:57.808460Z",
     "iopub.status.idle": "2024-04-21T06:21:57.817134Z",
     "shell.execute_reply": "2024-04-21T06:21:57.816039Z"
    },
    "papermill": {
     "duration": 0.047178,
     "end_time": "2024-04-21T06:21:57.819378",
     "exception": false,
     "start_time": "2024-04-21T06:21:57.772200",
     "status": "completed"
    },
    "tags": []
   },
   "outputs": [],
   "source": [
    "X_train,X_test,y_train,y_test = train_test_split(X,y,test_size=0.25,random_state = 42)"
   ]
  },
  {
   "cell_type": "markdown",
   "id": "c783bc81",
   "metadata": {
    "papermill": {
     "duration": 0.03531,
     "end_time": "2024-04-21T06:21:57.891456",
     "exception": false,
     "start_time": "2024-04-21T06:21:57.856146",
     "status": "completed"
    },
    "tags": []
   },
   "source": [
    "### Feature Scalling "
   ]
  },
  {
   "cell_type": "code",
   "execution_count": 65,
   "id": "a1b08562",
   "metadata": {
    "execution": {
     "iopub.execute_input": "2024-04-21T06:21:57.963986Z",
     "iopub.status.busy": "2024-04-21T06:21:57.963552Z",
     "iopub.status.idle": "2024-04-21T06:21:57.968377Z",
     "shell.execute_reply": "2024-04-21T06:21:57.967275Z"
    },
    "papermill": {
     "duration": 0.043795,
     "end_time": "2024-04-21T06:21:57.970517",
     "exception": false,
     "start_time": "2024-04-21T06:21:57.926722",
     "status": "completed"
    },
    "tags": []
   },
   "outputs": [],
   "source": [
    "from sklearn.preprocessing import MinMaxScaler "
   ]
  },
  {
   "cell_type": "code",
   "execution_count": 66,
   "id": "620665f8",
   "metadata": {
    "execution": {
     "iopub.execute_input": "2024-04-21T06:21:58.042746Z",
     "iopub.status.busy": "2024-04-21T06:21:58.042333Z",
     "iopub.status.idle": "2024-04-21T06:21:58.056824Z",
     "shell.execute_reply": "2024-04-21T06:21:58.055676Z"
    },
    "papermill": {
     "duration": 0.053693,
     "end_time": "2024-04-21T06:21:58.059380",
     "exception": false,
     "start_time": "2024-04-21T06:21:58.005687",
     "status": "completed"
    },
    "tags": []
   },
   "outputs": [],
   "source": [
    "scaler = MinMaxScaler()\n",
    "X_train[X_train.columns] = scaler.fit_transform(X_train[X_train.columns])\n",
    "X_test[X_test.columns] = scaler.transform(X_test[X_test.columns])"
   ]
  },
  {
   "cell_type": "code",
   "execution_count": 67,
   "id": "0a0744c2",
   "metadata": {
    "execution": {
     "iopub.execute_input": "2024-04-21T06:21:58.131882Z",
     "iopub.status.busy": "2024-04-21T06:21:58.131451Z",
     "iopub.status.idle": "2024-04-21T06:21:58.138430Z",
     "shell.execute_reply": "2024-04-21T06:21:58.137675Z"
    },
    "papermill": {
     "duration": 0.045933,
     "end_time": "2024-04-21T06:21:58.140585",
     "exception": false,
     "start_time": "2024-04-21T06:21:58.094652",
     "status": "completed"
    },
    "scrolled": true,
    "tags": []
   },
   "outputs": [
    {
     "data": {
      "text/plain": [
       "Loan_Status\n",
       "1    204\n",
       "0     81\n",
       "Name: count, dtype: int64"
      ]
     },
     "execution_count": 67,
     "metadata": {},
     "output_type": "execute_result"
    }
   ],
   "source": [
    "y_train.value_counts()"
   ]
  },
  {
   "cell_type": "code",
   "execution_count": 68,
   "id": "f0a0e3c1",
   "metadata": {
    "execution": {
     "iopub.execute_input": "2024-04-21T06:21:58.214261Z",
     "iopub.status.busy": "2024-04-21T06:21:58.213203Z",
     "iopub.status.idle": "2024-04-21T06:21:58.221432Z",
     "shell.execute_reply": "2024-04-21T06:21:58.220370Z"
    },
    "papermill": {
     "duration": 0.047483,
     "end_time": "2024-04-21T06:21:58.223744",
     "exception": false,
     "start_time": "2024-04-21T06:21:58.176261",
     "status": "completed"
    },
    "tags": []
   },
   "outputs": [
    {
     "data": {
      "text/plain": [
       "Loan_Status\n",
       "1    67\n",
       "0    29\n",
       "Name: count, dtype: int64"
      ]
     },
     "execution_count": 68,
     "metadata": {},
     "output_type": "execute_result"
    }
   ],
   "source": [
    "y_test.value_counts()"
   ]
  },
  {
   "cell_type": "markdown",
   "id": "be96d573",
   "metadata": {
    "papermill": {
     "duration": 0.03541,
     "end_time": "2024-04-21T06:21:58.298939",
     "exception": false,
     "start_time": "2024-04-21T06:21:58.263529",
     "status": "completed"
    },
    "tags": []
   },
   "source": [
    "### Model Building "
   ]
  },
  {
   "cell_type": "markdown",
   "id": "41d5a913",
   "metadata": {
    "papermill": {
     "duration": 0.037717,
     "end_time": "2024-04-21T06:21:58.374158",
     "exception": false,
     "start_time": "2024-04-21T06:21:58.336441",
     "status": "completed"
    },
    "tags": []
   },
   "source": [
    "#### Logistic Regression "
   ]
  },
  {
   "cell_type": "code",
   "execution_count": 69,
   "id": "928bda1c",
   "metadata": {
    "execution": {
     "iopub.execute_input": "2024-04-21T06:21:58.467938Z",
     "iopub.status.busy": "2024-04-21T06:21:58.467564Z",
     "iopub.status.idle": "2024-04-21T06:21:58.471708Z",
     "shell.execute_reply": "2024-04-21T06:21:58.470969Z"
    },
    "papermill": {
     "duration": 0.048608,
     "end_time": "2024-04-21T06:21:58.473604",
     "exception": false,
     "start_time": "2024-04-21T06:21:58.424996",
     "status": "completed"
    },
    "tags": []
   },
   "outputs": [],
   "source": [
    "from sklearn.linear_model import LogisticRegression \n",
    "from sklearn.metrics import confusion_matrix,classification_report,f1_score"
   ]
  },
  {
   "cell_type": "code",
   "execution_count": 70,
   "id": "9bc51b07",
   "metadata": {
    "execution": {
     "iopub.execute_input": "2024-04-21T06:21:58.546406Z",
     "iopub.status.busy": "2024-04-21T06:21:58.545972Z",
     "iopub.status.idle": "2024-04-21T06:21:58.566060Z",
     "shell.execute_reply": "2024-04-21T06:21:58.564998Z"
    },
    "papermill": {
     "duration": 0.059411,
     "end_time": "2024-04-21T06:21:58.568528",
     "exception": false,
     "start_time": "2024-04-21T06:21:58.509117",
     "status": "completed"
    },
    "tags": []
   },
   "outputs": [],
   "source": [
    "log_model = LogisticRegression()\n",
    "log_model.fit(X_train,y_train)\n",
    "y_log_test_pred = log_model.predict(X_test)"
   ]
  },
  {
   "cell_type": "code",
   "execution_count": 71,
   "id": "e82cb274",
   "metadata": {
    "execution": {
     "iopub.execute_input": "2024-04-21T06:21:58.644423Z",
     "iopub.status.busy": "2024-04-21T06:21:58.643993Z",
     "iopub.status.idle": "2024-04-21T06:21:58.649900Z",
     "shell.execute_reply": "2024-04-21T06:21:58.648868Z"
    },
    "papermill": {
     "duration": 0.046905,
     "end_time": "2024-04-21T06:21:58.651974",
     "exception": false,
     "start_time": "2024-04-21T06:21:58.605069",
     "status": "completed"
    },
    "tags": []
   },
   "outputs": [],
   "source": [
    "cf_log = confusion_matrix(y_test,y_log_test_pred)"
   ]
  },
  {
   "cell_type": "code",
   "execution_count": 72,
   "id": "a9bca09d",
   "metadata": {
    "execution": {
     "iopub.execute_input": "2024-04-21T06:21:58.725727Z",
     "iopub.status.busy": "2024-04-21T06:21:58.725353Z",
     "iopub.status.idle": "2024-04-21T06:21:58.933486Z",
     "shell.execute_reply": "2024-04-21T06:21:58.932200Z"
    },
    "papermill": {
     "duration": 0.247452,
     "end_time": "2024-04-21T06:21:58.935783",
     "exception": false,
     "start_time": "2024-04-21T06:21:58.688331",
     "status": "completed"
    },
    "tags": []
   },
   "outputs": [
    {
     "data": {
      "image/png": "[encoded data removed]",
      "text/plain": [
       "<Figure size 640x480 with 2 Axes>"
      ]
     },
     "metadata": {},
     "output_type": "display_data"
    }
   ],
   "source": [
    "sns.heatmap(cf_log,annot=True,cmap=\"viridis\",linecolor=\"orange\",linewidth=1,fmt=\"d\")\n",
    "plt.xlabel(\"Predicted\")\n",
    "plt.ylabel(\"Actual\")\n",
    "plt.show()"
   ]
  },
  {
   "cell_type": "code",
   "execution_count": 73,
   "id": "e9bc26b5",
   "metadata": {
    "execution": {
     "iopub.execute_input": "2024-04-21T06:21:59.011049Z",
     "iopub.status.busy": "2024-04-21T06:21:59.010640Z",
     "iopub.status.idle": "2024-04-21T06:21:59.032012Z",
     "shell.execute_reply": "2024-04-21T06:21:59.031006Z"
    },
    "papermill": {
     "duration": 0.063003,
     "end_time": "2024-04-21T06:21:59.034218",
     "exception": false,
     "start_time": "2024-04-21T06:21:58.971215",
     "status": "completed"
    },
    "tags": []
   },
   "outputs": [
    {
     "data": {
      "text/html": [
       "<div>\n",
       "<style scoped>\n",
       "    .dataframe tbody tr th:only-of-type {\n",
       "        vertical-align: middle;\n",
       "    }\n",
       "\n",
       "    .dataframe tbody tr th {\n",
       "        vertical-align: top;\n",
       "    }\n",
       "\n",
       "    .dataframe thead th {\n",
       "        text-align: right;\n",
       "    }\n",
       "</style>\n",
       "<table border=\"1\" class=\"dataframe\">\n",
       "  <thead>\n",
       "    <tr style=\"text-align: right;\">\n",
       "      <th></th>\n",
       "      <th>0</th>\n",
       "      <th>1</th>\n",
       "      <th>accuracy</th>\n",
       "      <th>macro avg</th>\n",
       "      <th>weighted avg</th>\n",
       "    </tr>\n",
       "  </thead>\n",
       "  <tbody>\n",
       "    <tr>\n",
       "      <th>precision</th>\n",
       "      <td>1.000000</td>\n",
       "      <td>0.797619</td>\n",
       "      <td>0.822917</td>\n",
       "      <td>0.898810</td>\n",
       "      <td>0.858755</td>\n",
       "    </tr>\n",
       "    <tr>\n",
       "      <th>recall</th>\n",
       "      <td>0.413793</td>\n",
       "      <td>1.000000</td>\n",
       "      <td>0.822917</td>\n",
       "      <td>0.706897</td>\n",
       "      <td>0.822917</td>\n",
       "    </tr>\n",
       "    <tr>\n",
       "      <th>f1-score</th>\n",
       "      <td>0.585366</td>\n",
       "      <td>0.887417</td>\n",
       "      <td>0.822917</td>\n",
       "      <td>0.736392</td>\n",
       "      <td>0.796173</td>\n",
       "    </tr>\n",
       "    <tr>\n",
       "      <th>support</th>\n",
       "      <td>29.000000</td>\n",
       "      <td>67.000000</td>\n",
       "      <td>0.822917</td>\n",
       "      <td>96.000000</td>\n",
       "      <td>96.000000</td>\n",
       "    </tr>\n",
       "  </tbody>\n",
       "</table>\n",
       "</div>"
      ],
      "text/plain": [
       "                   0          1  accuracy  macro avg  weighted avg\n",
       "precision   1.000000   0.797619  0.822917   0.898810      0.858755\n",
       "recall      0.413793   1.000000  0.822917   0.706897      0.822917\n",
       "f1-score    0.585366   0.887417  0.822917   0.736392      0.796173\n",
       "support    29.000000  67.000000  0.822917  96.000000     96.000000"
      ]
     },
     "execution_count": 73,
     "metadata": {},
     "output_type": "execute_result"
    }
   ],
   "source": [
    "report_dict_log = classification_report(y_test,y_log_test_pred,output_dict=True)\n",
    "report_df_log = pd.DataFrame(report_dict_log)\n",
    "report_df_log"
   ]
  },
  {
   "cell_type": "markdown",
   "id": "7aab30b7",
   "metadata": {
    "papermill": {
     "duration": 0.035917,
     "end_time": "2024-04-21T06:21:59.106251",
     "exception": false,
     "start_time": "2024-04-21T06:21:59.070334",
     "status": "completed"
    },
    "tags": []
   },
   "source": [
    "* As we can see recall for 0th class came very low due to imbalanced class "
   ]
  },
  {
   "cell_type": "markdown",
   "id": "7c6e3240",
   "metadata": {
    "papermill": {
     "duration": 0.037422,
     "end_time": "2024-04-21T06:21:59.179612",
     "exception": false,
     "start_time": "2024-04-21T06:21:59.142190",
     "status": "completed"
    },
    "tags": []
   },
   "source": [
    "### SMOTE method "
   ]
  },
  {
   "cell_type": "markdown",
   "id": "ae91ca2d",
   "metadata": {
    "papermill": {
     "duration": 0.036101,
     "end_time": "2024-04-21T06:21:59.251868",
     "exception": false,
     "start_time": "2024-04-21T06:21:59.215767",
     "status": "completed"
    },
    "tags": []
   },
   "source": [
    "* To balance the target variable "
   ]
  },
  {
   "cell_type": "code",
   "execution_count": 74,
   "id": "b5e3011b",
   "metadata": {
    "execution": {
     "iopub.execute_input": "2024-04-21T06:21:59.325774Z",
     "iopub.status.busy": "2024-04-21T06:21:59.325322Z",
     "iopub.status.idle": "2024-04-21T06:21:59.332407Z",
     "shell.execute_reply": "2024-04-21T06:21:59.331775Z"
    },
    "papermill": {
     "duration": 0.04683,
     "end_time": "2024-04-21T06:21:59.334588",
     "exception": false,
     "start_time": "2024-04-21T06:21:59.287758",
     "status": "completed"
    },
    "tags": []
   },
   "outputs": [
    {
     "data": {
      "text/plain": [
       "Loan_Status\n",
       "1    271\n",
       "0    110\n",
       "Name: count, dtype: int64"
      ]
     },
     "execution_count": 74,
     "metadata": {},
     "output_type": "execute_result"
    }
   ],
   "source": [
    "y.value_counts()"
   ]
  },
  {
   "cell_type": "code",
   "execution_count": 75,
   "id": "72e8ba52",
   "metadata": {
    "execution": {
     "iopub.execute_input": "2024-04-21T06:21:59.409122Z",
     "iopub.status.busy": "2024-04-21T06:21:59.408394Z",
     "iopub.status.idle": "2024-04-21T06:21:59.416582Z",
     "shell.execute_reply": "2024-04-21T06:21:59.415556Z"
    },
    "papermill": {
     "duration": 0.048243,
     "end_time": "2024-04-21T06:21:59.418832",
     "exception": false,
     "start_time": "2024-04-21T06:21:59.370589",
     "status": "completed"
    },
    "tags": []
   },
   "outputs": [],
   "source": [
    "a = df[df[\"Loan_Status\"]==0][\"LoanAmount\"]\n",
    "b = df[df[\"Loan_Status\"]==1][\"LoanAmount\"]\n",
    "A = list(range(1,len(a)+1))\n",
    "B = list(range(1,len(b)+1))"
   ]
  },
  {
   "cell_type": "code",
   "execution_count": 76,
   "id": "682c2648",
   "metadata": {
    "execution": {
     "iopub.execute_input": "2024-04-21T06:21:59.494175Z",
     "iopub.status.busy": "2024-04-21T06:21:59.493265Z",
     "iopub.status.idle": "2024-04-21T06:21:59.698515Z",
     "shell.execute_reply": "2024-04-21T06:21:59.697385Z"
    },
    "papermill": {
     "duration": 0.245197,
     "end_time": "2024-04-21T06:21:59.700744",
     "exception": false,
     "start_time": "2024-04-21T06:21:59.455547",
     "status": "completed"
    },
    "tags": []
   },
   "outputs": [
    {
     "data": {
      "image/png": "[encoded data removed]",
      "text/plain": [
       "<Figure size 800x500 with 1 Axes>"
      ]
     },
     "metadata": {},
     "output_type": "display_data"
    }
   ],
   "source": [
    "plt.figure(figsize=(8,5))\n",
    "plt.scatter(x = A,y=list(a),marker=\"o\",s=70,color=\"orange\")\n",
    "plt.scatter(x = B,y=list(b),marker=\"o\",s=70,color=\"Blue\")\n",
    "plt.show()"
   ]
  },
  {
   "cell_type": "code",
   "execution_count": 77,
   "id": "9ed3788e",
   "metadata": {
    "execution": {
     "iopub.execute_input": "2024-04-21T06:21:59.776804Z",
     "iopub.status.busy": "2024-04-21T06:21:59.776396Z",
     "iopub.status.idle": "2024-04-21T06:21:59.942662Z",
     "shell.execute_reply": "2024-04-21T06:21:59.941245Z"
    },
    "papermill": {
     "duration": 0.207093,
     "end_time": "2024-04-21T06:21:59.945354",
     "exception": false,
     "start_time": "2024-04-21T06:21:59.738261",
     "status": "completed"
    },
    "tags": []
   },
   "outputs": [],
   "source": [
    "from imblearn.over_sampling import SMOTE \n",
    "from collections import Counter "
   ]
  },
  {
   "cell_type": "code",
   "execution_count": 78,
   "id": "4de21097",
   "metadata": {
    "execution": {
     "iopub.execute_input": "2024-04-21T06:22:00.021939Z",
     "iopub.status.busy": "2024-04-21T06:22:00.020989Z",
     "iopub.status.idle": "2024-04-21T06:22:00.033310Z",
     "shell.execute_reply": "2024-04-21T06:22:00.032209Z"
    },
    "papermill": {
     "duration": 0.053404,
     "end_time": "2024-04-21T06:22:00.035727",
     "exception": false,
     "start_time": "2024-04-21T06:21:59.982323",
     "status": "completed"
    },
    "tags": []
   },
   "outputs": [],
   "source": [
    "over = SMOTE(sampling_strategy=\"minority\")\n",
    "X,y = over.fit_resample(X,y)"
   ]
  },
  {
   "cell_type": "code",
   "execution_count": 79,
   "id": "e32f35a2",
   "metadata": {
    "execution": {
     "iopub.execute_input": "2024-04-21T06:22:00.112069Z",
     "iopub.status.busy": "2024-04-21T06:22:00.111620Z",
     "iopub.status.idle": "2024-04-21T06:22:00.119266Z",
     "shell.execute_reply": "2024-04-21T06:22:00.117968Z"
    },
    "papermill": {
     "duration": 0.048342,
     "end_time": "2024-04-21T06:22:00.121611",
     "exception": false,
     "start_time": "2024-04-21T06:22:00.073269",
     "status": "completed"
    },
    "tags": []
   },
   "outputs": [
    {
     "data": {
      "text/plain": [
       "Counter({0: 271, 1: 271})"
      ]
     },
     "execution_count": 79,
     "metadata": {},
     "output_type": "execute_result"
    }
   ],
   "source": [
    "balanced_dict = Counter(y)\n",
    "balanced_dict"
   ]
  },
  {
   "cell_type": "code",
   "execution_count": 80,
   "id": "23023d18",
   "metadata": {
    "execution": {
     "iopub.execute_input": "2024-04-21T06:22:00.198814Z",
     "iopub.status.busy": "2024-04-21T06:22:00.198398Z",
     "iopub.status.idle": "2024-04-21T06:22:00.204765Z",
     "shell.execute_reply": "2024-04-21T06:22:00.203860Z"
    },
    "papermill": {
     "duration": 0.047605,
     "end_time": "2024-04-21T06:22:00.206989",
     "exception": false,
     "start_time": "2024-04-21T06:22:00.159384",
     "status": "completed"
    },
    "tags": []
   },
   "outputs": [],
   "source": [
    "inp0 = pd.concat([X,y],axis=1)"
   ]
  },
  {
   "cell_type": "code",
   "execution_count": 81,
   "id": "1a5a909d",
   "metadata": {
    "execution": {
     "iopub.execute_input": "2024-04-21T06:22:00.284800Z",
     "iopub.status.busy": "2024-04-21T06:22:00.284138Z",
     "iopub.status.idle": "2024-04-21T06:22:00.299217Z",
     "shell.execute_reply": "2024-04-21T06:22:00.298127Z"
    },
    "papermill": {
     "duration": 0.056637,
     "end_time": "2024-04-21T06:22:00.301535",
     "exception": false,
     "start_time": "2024-04-21T06:22:00.244898",
     "status": "completed"
    },
    "tags": []
   },
   "outputs": [
    {
     "data": {
      "text/html": [
       "<div>\n",
       "<style scoped>\n",
       "    .dataframe tbody tr th:only-of-type {\n",
       "        vertical-align: middle;\n",
       "    }\n",
       "\n",
       "    .dataframe tbody tr th {\n",
       "        vertical-align: top;\n",
       "    }\n",
       "\n",
       "    .dataframe thead th {\n",
       "        text-align: right;\n",
       "    }\n",
       "</style>\n",
       "<table border=\"1\" class=\"dataframe\">\n",
       "  <thead>\n",
       "    <tr style=\"text-align: right;\">\n",
       "      <th></th>\n",
       "      <th>Gender</th>\n",
       "      <th>Married</th>\n",
       "      <th>Dependents</th>\n",
       "      <th>Education</th>\n",
       "      <th>Self_Employed</th>\n",
       "      <th>ApplicantIncome</th>\n",
       "      <th>CoapplicantIncome</th>\n",
       "      <th>LoanAmount</th>\n",
       "      <th>Loan_Amount_Term</th>\n",
       "      <th>Credit_History</th>\n",
       "      <th>Property_Area</th>\n",
       "      <th>Loan_Status</th>\n",
       "    </tr>\n",
       "  </thead>\n",
       "  <tbody>\n",
       "    <tr>\n",
       "      <th>0</th>\n",
       "      <td>1</td>\n",
       "      <td>1</td>\n",
       "      <td>1</td>\n",
       "      <td>1</td>\n",
       "      <td>0</td>\n",
       "      <td>4583</td>\n",
       "      <td>1508.0</td>\n",
       "      <td>128000.0</td>\n",
       "      <td>30.0</td>\n",
       "      <td>1.0</td>\n",
       "      <td>0</td>\n",
       "      <td>0</td>\n",
       "    </tr>\n",
       "    <tr>\n",
       "      <th>1</th>\n",
       "      <td>1</td>\n",
       "      <td>1</td>\n",
       "      <td>0</td>\n",
       "      <td>1</td>\n",
       "      <td>1</td>\n",
       "      <td>3000</td>\n",
       "      <td>0.0</td>\n",
       "      <td>66000.0</td>\n",
       "      <td>30.0</td>\n",
       "      <td>1.0</td>\n",
       "      <td>2</td>\n",
       "      <td>1</td>\n",
       "    </tr>\n",
       "    <tr>\n",
       "      <th>2</th>\n",
       "      <td>1</td>\n",
       "      <td>1</td>\n",
       "      <td>0</td>\n",
       "      <td>0</td>\n",
       "      <td>0</td>\n",
       "      <td>2583</td>\n",
       "      <td>2358.0</td>\n",
       "      <td>120000.0</td>\n",
       "      <td>30.0</td>\n",
       "      <td>1.0</td>\n",
       "      <td>2</td>\n",
       "      <td>1</td>\n",
       "    </tr>\n",
       "    <tr>\n",
       "      <th>3</th>\n",
       "      <td>1</td>\n",
       "      <td>0</td>\n",
       "      <td>0</td>\n",
       "      <td>1</td>\n",
       "      <td>0</td>\n",
       "      <td>6000</td>\n",
       "      <td>0.0</td>\n",
       "      <td>141000.0</td>\n",
       "      <td>30.0</td>\n",
       "      <td>1.0</td>\n",
       "      <td>2</td>\n",
       "      <td>1</td>\n",
       "    </tr>\n",
       "    <tr>\n",
       "      <th>4</th>\n",
       "      <td>1</td>\n",
       "      <td>1</td>\n",
       "      <td>0</td>\n",
       "      <td>0</td>\n",
       "      <td>0</td>\n",
       "      <td>2333</td>\n",
       "      <td>1516.0</td>\n",
       "      <td>95000.0</td>\n",
       "      <td>30.0</td>\n",
       "      <td>1.0</td>\n",
       "      <td>2</td>\n",
       "      <td>1</td>\n",
       "    </tr>\n",
       "  </tbody>\n",
       "</table>\n",
       "</div>"
      ],
      "text/plain": [
       "   Gender  Married  Dependents  Education  Self_Employed  ApplicantIncome  \\\n",
       "0       1        1           1          1              0             4583   \n",
       "1       1        1           0          1              1             3000   \n",
       "2       1        1           0          0              0             2583   \n",
       "3       1        0           0          1              0             6000   \n",
       "4       1        1           0          0              0             2333   \n",
       "\n",
       "   CoapplicantIncome  LoanAmount  Loan_Amount_Term  Credit_History  \\\n",
       "0             1508.0    128000.0              30.0             1.0   \n",
       "1                0.0     66000.0              30.0             1.0   \n",
       "2             2358.0    120000.0              30.0             1.0   \n",
       "3                0.0    141000.0              30.0             1.0   \n",
       "4             1516.0     95000.0              30.0             1.0   \n",
       "\n",
       "   Property_Area  Loan_Status  \n",
       "0              0            0  \n",
       "1              2            1  \n",
       "2              2            1  \n",
       "3              2            1  \n",
       "4              2            1  "
      ]
     },
     "execution_count": 81,
     "metadata": {},
     "output_type": "execute_result"
    }
   ],
   "source": [
    "inp0.head()"
   ]
  },
  {
   "cell_type": "code",
   "execution_count": 82,
   "id": "3e073e32",
   "metadata": {
    "execution": {
     "iopub.execute_input": "2024-04-21T06:22:00.380831Z",
     "iopub.status.busy": "2024-04-21T06:22:00.380375Z",
     "iopub.status.idle": "2024-04-21T06:22:00.598374Z",
     "shell.execute_reply": "2024-04-21T06:22:00.596832Z"
    },
    "papermill": {
     "duration": 0.259813,
     "end_time": "2024-04-21T06:22:00.600801",
     "exception": false,
     "start_time": "2024-04-21T06:22:00.340988",
     "status": "completed"
    },
    "tags": []
   },
   "outputs": [
    {
     "data": {
      "image/png": "[encoded data removed]",
      "text/plain": [
       "<Figure size 800x500 with 1 Axes>"
      ]
     },
     "metadata": {},
     "output_type": "display_data"
    }
   ],
   "source": [
    "a = inp0[inp0[\"Loan_Status\"]==0][\"LoanAmount\"]\n",
    "b = inp0[inp0[\"Loan_Status\"]==1][\"LoanAmount\"]\n",
    "A = list(range(1,len(a)+1))\n",
    "B = list(range(1,len(b)+1))\n",
    "plt.figure(figsize=(8,5))\n",
    "plt.scatter(x = A,y=list(a),marker=\"o\",s=70,color=\"orange\")\n",
    "plt.scatter(x = B,y=list(b),marker=\"o\",s=70,color=\"Blue\")\n",
    "plt.show()"
   ]
  },
  {
   "cell_type": "code",
   "execution_count": 83,
   "id": "07e4c577",
   "metadata": {
    "execution": {
     "iopub.execute_input": "2024-04-21T06:22:00.681829Z",
     "iopub.status.busy": "2024-04-21T06:22:00.681411Z",
     "iopub.status.idle": "2024-04-21T06:22:00.699385Z",
     "shell.execute_reply": "2024-04-21T06:22:00.698254Z"
    },
    "papermill": {
     "duration": 0.060968,
     "end_time": "2024-04-21T06:22:00.701901",
     "exception": false,
     "start_time": "2024-04-21T06:22:00.640933",
     "status": "completed"
    },
    "tags": []
   },
   "outputs": [],
   "source": [
    "X = inp0.drop(\"Loan_Status\",axis=1)\n",
    "y = inp0[\"Loan_Status\"]\n",
    "X_train,X_test,y_train,y_test = train_test_split(X,y,test_size=0.25,random_state = 42,stratify=y)\n",
    "X_train[X_train.columns] = scaler.fit_transform(X_train[X_train.columns])\n",
    "X_test[X_test.columns] = scaler.transform(X_test[X_test.columns])"
   ]
  },
  {
   "cell_type": "code",
   "execution_count": 84,
   "id": "bc06af3d",
   "metadata": {
    "execution": {
     "iopub.execute_input": "2024-04-21T06:22:00.782415Z",
     "iopub.status.busy": "2024-04-21T06:22:00.781999Z",
     "iopub.status.idle": "2024-04-21T06:22:00.789806Z",
     "shell.execute_reply": "2024-04-21T06:22:00.788750Z"
    },
    "papermill": {
     "duration": 0.050497,
     "end_time": "2024-04-21T06:22:00.791818",
     "exception": false,
     "start_time": "2024-04-21T06:22:00.741321",
     "status": "completed"
    },
    "tags": []
   },
   "outputs": [
    {
     "data": {
      "text/plain": [
       "Loan_Status\n",
       "0    68\n",
       "1    68\n",
       "Name: count, dtype: int64"
      ]
     },
     "execution_count": 84,
     "metadata": {},
     "output_type": "execute_result"
    }
   ],
   "source": [
    "y_test.value_counts()"
   ]
  },
  {
   "cell_type": "code",
   "execution_count": 85,
   "id": "82e73e7a",
   "metadata": {
    "execution": {
     "iopub.execute_input": "2024-04-21T06:22:00.871093Z",
     "iopub.status.busy": "2024-04-21T06:22:00.870682Z",
     "iopub.status.idle": "2024-04-21T06:22:00.885756Z",
     "shell.execute_reply": "2024-04-21T06:22:00.884666Z"
    },
    "papermill": {
     "duration": 0.058029,
     "end_time": "2024-04-21T06:22:00.888200",
     "exception": false,
     "start_time": "2024-04-21T06:22:00.830171",
     "status": "completed"
    },
    "tags": []
   },
   "outputs": [],
   "source": [
    "log_model = LogisticRegression()\n",
    "log_model.fit(X_train,y_train)\n",
    "y_log_test_pred = log_model.predict(X_test)"
   ]
  },
  {
   "cell_type": "code",
   "execution_count": 86,
   "id": "6079586c",
   "metadata": {
    "execution": {
     "iopub.execute_input": "2024-04-21T06:22:00.967392Z",
     "iopub.status.busy": "2024-04-21T06:22:00.966999Z",
     "iopub.status.idle": "2024-04-21T06:22:01.177008Z",
     "shell.execute_reply": "2024-04-21T06:22:01.175849Z"
    },
    "papermill": {
     "duration": 0.252281,
     "end_time": "2024-04-21T06:22:01.179234",
     "exception": false,
     "start_time": "2024-04-21T06:22:00.926953",
     "status": "completed"
    },
    "tags": []
   },
   "outputs": [
    {
     "data": {
      "image/png": "[encoded data removed]",
      "text/plain": [
       "<Figure size 640x480 with 2 Axes>"
      ]
     },
     "metadata": {},
     "output_type": "display_data"
    }
   ],
   "source": [
    "cf_log = confusion_matrix(y_test,y_log_test_pred)\n",
    "sns.heatmap(cf_log,annot=True,cmap=\"viridis\",linecolor=\"orange\",linewidth=1,fmt=\"d\")\n",
    "plt.xlabel(\"Predicted\")\n",
    "plt.ylabel(\"Actual\")\n",
    "plt.show()"
   ]
  },
  {
   "cell_type": "code",
   "execution_count": 87,
   "id": "571ed33f",
   "metadata": {
    "execution": {
     "iopub.execute_input": "2024-04-21T06:22:01.259649Z",
     "iopub.status.busy": "2024-04-21T06:22:01.259242Z",
     "iopub.status.idle": "2024-04-21T06:22:01.279756Z",
     "shell.execute_reply": "2024-04-21T06:22:01.278999Z"
    },
    "papermill": {
     "duration": 0.063333,
     "end_time": "2024-04-21T06:22:01.281762",
     "exception": false,
     "start_time": "2024-04-21T06:22:01.218429",
     "status": "completed"
    },
    "tags": []
   },
   "outputs": [
    {
     "data": {
      "text/html": [
       "<div>\n",
       "<style scoped>\n",
       "    .dataframe tbody tr th:only-of-type {\n",
       "        vertical-align: middle;\n",
       "    }\n",
       "\n",
       "    .dataframe tbody tr th {\n",
       "        vertical-align: top;\n",
       "    }\n",
       "\n",
       "    .dataframe thead th {\n",
       "        text-align: right;\n",
       "    }\n",
       "</style>\n",
       "<table border=\"1\" class=\"dataframe\">\n",
       "  <thead>\n",
       "    <tr style=\"text-align: right;\">\n",
       "      <th></th>\n",
       "      <th>0</th>\n",
       "      <th>1</th>\n",
       "      <th>accuracy</th>\n",
       "      <th>macro avg</th>\n",
       "      <th>weighted avg</th>\n",
       "    </tr>\n",
       "  </thead>\n",
       "  <tbody>\n",
       "    <tr>\n",
       "      <th>precision</th>\n",
       "      <td>0.943396</td>\n",
       "      <td>0.783133</td>\n",
       "      <td>0.845588</td>\n",
       "      <td>0.863264</td>\n",
       "      <td>0.863264</td>\n",
       "    </tr>\n",
       "    <tr>\n",
       "      <th>recall</th>\n",
       "      <td>0.735294</td>\n",
       "      <td>0.955882</td>\n",
       "      <td>0.845588</td>\n",
       "      <td>0.845588</td>\n",
       "      <td>0.845588</td>\n",
       "    </tr>\n",
       "    <tr>\n",
       "      <th>f1-score</th>\n",
       "      <td>0.826446</td>\n",
       "      <td>0.860927</td>\n",
       "      <td>0.845588</td>\n",
       "      <td>0.843687</td>\n",
       "      <td>0.843687</td>\n",
       "    </tr>\n",
       "    <tr>\n",
       "      <th>support</th>\n",
       "      <td>68.000000</td>\n",
       "      <td>68.000000</td>\n",
       "      <td>0.845588</td>\n",
       "      <td>136.000000</td>\n",
       "      <td>136.000000</td>\n",
       "    </tr>\n",
       "  </tbody>\n",
       "</table>\n",
       "</div>"
      ],
      "text/plain": [
       "                   0          1  accuracy   macro avg  weighted avg\n",
       "precision   0.943396   0.783133  0.845588    0.863264      0.863264\n",
       "recall      0.735294   0.955882  0.845588    0.845588      0.845588\n",
       "f1-score    0.826446   0.860927  0.845588    0.843687      0.843687\n",
       "support    68.000000  68.000000  0.845588  136.000000    136.000000"
      ]
     },
     "execution_count": 87,
     "metadata": {},
     "output_type": "execute_result"
    }
   ],
   "source": [
    "report_dict_log = classification_report(y_test,y_log_test_pred,output_dict=True)\n",
    "report_df_log = pd.DataFrame(report_dict_log)\n",
    "report_df_log"
   ]
  },
  {
   "cell_type": "markdown",
   "id": "d03dd04b",
   "metadata": {
    "papermill": {
     "duration": 0.039508,
     "end_time": "2024-04-21T06:22:01.362122",
     "exception": false,
     "start_time": "2024-04-21T06:22:01.322614",
     "status": "completed"
    },
    "tags": []
   },
   "source": [
    "* Now F1 score for both the classes came good "
   ]
  },
  {
   "cell_type": "markdown",
   "id": "ea944ebb",
   "metadata": {
    "papermill": {
     "duration": 0.040602,
     "end_time": "2024-04-21T06:22:01.442318",
     "exception": false,
     "start_time": "2024-04-21T06:22:01.401716",
     "status": "completed"
    },
    "tags": []
   },
   "source": [
    "#### Random Forest Classifier "
   ]
  },
  {
   "cell_type": "code",
   "execution_count": 88,
   "id": "2d220a00",
   "metadata": {
    "execution": {
     "iopub.execute_input": "2024-04-21T06:22:01.525428Z",
     "iopub.status.busy": "2024-04-21T06:22:01.525020Z",
     "iopub.status.idle": "2024-04-21T06:22:03.708394Z",
     "shell.execute_reply": "2024-04-21T06:22:03.707190Z"
    },
    "papermill": {
     "duration": 2.227695,
     "end_time": "2024-04-21T06:22:03.711052",
     "exception": false,
     "start_time": "2024-04-21T06:22:01.483357",
     "status": "completed"
    },
    "tags": []
   },
   "outputs": [],
   "source": [
    "score = {}\n",
    "for i in range(5,101,5):\n",
    "    rf_model = RandomForestClassifier(n_estimators = i)\n",
    "    rf_model.fit(X_train,y_train)\n",
    "    y_rf_test_pred = rf_model.predict(X_test)\n",
    "    a = f1_score(y_test,y_rf_test_pred)\n",
    "    score[f\"{i} models\"] = a "
   ]
  },
  {
   "cell_type": "code",
   "execution_count": 89,
   "id": "f0f5e0b2",
   "metadata": {
    "execution": {
     "iopub.execute_input": "2024-04-21T06:22:03.794630Z",
     "iopub.status.busy": "2024-04-21T06:22:03.794047Z",
     "iopub.status.idle": "2024-04-21T06:22:03.800466Z",
     "shell.execute_reply": "2024-04-21T06:22:03.799373Z"
    },
    "papermill": {
     "duration": 0.051745,
     "end_time": "2024-04-21T06:22:03.802502",
     "exception": false,
     "start_time": "2024-04-21T06:22:03.750757",
     "status": "completed"
    },
    "tags": []
   },
   "outputs": [
    {
     "data": {
      "text/plain": [
       "{'15 models': 0.8918918918918919,\n",
       " '80 models': 0.8904109589041096,\n",
       " '35 models': 0.8843537414965986,\n",
       " '45 models': 0.8843537414965986,\n",
       " '40 models': 0.8783783783783784,\n",
       " '55 models': 0.8783783783783784,\n",
       " '70 models': 0.8783783783783784,\n",
       " '75 models': 0.8783783783783784,\n",
       " '90 models': 0.8783783783783784,\n",
       " '30 models': 0.8767123287671232,\n",
       " '50 models': 0.8767123287671232,\n",
       " '100 models': 0.8767123287671232,\n",
       " '20 models': 0.87248322147651,\n",
       " '95 models': 0.87248322147651,\n",
       " '25 models': 0.8707482993197279,\n",
       " '60 models': 0.8707482993197279,\n",
       " '85 models': 0.8707482993197279,\n",
       " '65 models': 0.8689655172413794,\n",
       " '10 models': 0.8531468531468531,\n",
       " '5 models': 0.8285714285714286}"
      ]
     },
     "execution_count": 89,
     "metadata": {},
     "output_type": "execute_result"
    }
   ],
   "source": [
    "score = dict(sorted(score.items(),key = lambda x:x[1],reverse=True))\n",
    "score "
   ]
  },
  {
   "cell_type": "code",
   "execution_count": 90,
   "id": "15ee4ba1",
   "metadata": {
    "execution": {
     "iopub.execute_input": "2024-04-21T06:22:03.885000Z",
     "iopub.status.busy": "2024-04-21T06:22:03.884605Z",
     "iopub.status.idle": "2024-04-21T06:22:03.889111Z",
     "shell.execute_reply": "2024-04-21T06:22:03.888275Z"
    },
    "papermill": {
     "duration": 0.048841,
     "end_time": "2024-04-21T06:22:03.891110",
     "exception": false,
     "start_time": "2024-04-21T06:22:03.842269",
     "status": "completed"
    },
    "tags": []
   },
   "outputs": [],
   "source": [
    "n_models = int(list(score.keys())[0].split()[0])"
   ]
  },
  {
   "cell_type": "code",
   "execution_count": 91,
   "id": "27502e82",
   "metadata": {
    "execution": {
     "iopub.execute_input": "2024-04-21T06:22:03.972735Z",
     "iopub.status.busy": "2024-04-21T06:22:03.972126Z",
     "iopub.status.idle": "2024-04-21T06:22:04.012620Z",
     "shell.execute_reply": "2024-04-21T06:22:04.011422Z"
    },
    "papermill": {
     "duration": 0.083934,
     "end_time": "2024-04-21T06:22:04.015181",
     "exception": false,
     "start_time": "2024-04-21T06:22:03.931247",
     "status": "completed"
    },
    "tags": []
   },
   "outputs": [],
   "source": [
    "rf_model = RandomForestClassifier(n_estimators = n_models)\n",
    "rf_model.fit(X_train,y_train)\n",
    "y_rf_test_pred = rf_model.predict(X_test)"
   ]
  },
  {
   "cell_type": "code",
   "execution_count": 92,
   "id": "97ad1da3",
   "metadata": {
    "execution": {
     "iopub.execute_input": "2024-04-21T06:22:04.096879Z",
     "iopub.status.busy": "2024-04-21T06:22:04.095789Z",
     "iopub.status.idle": "2024-04-21T06:22:04.102704Z",
     "shell.execute_reply": "2024-04-21T06:22:04.101396Z"
    },
    "papermill": {
     "duration": 0.050528,
     "end_time": "2024-04-21T06:22:04.105118",
     "exception": false,
     "start_time": "2024-04-21T06:22:04.054590",
     "status": "completed"
    },
    "tags": []
   },
   "outputs": [],
   "source": [
    "cf_rf = confusion_matrix(y_test,y_rf_test_pred)"
   ]
  },
  {
   "cell_type": "code",
   "execution_count": 93,
   "id": "7a366b62",
   "metadata": {
    "execution": {
     "iopub.execute_input": "2024-04-21T06:22:04.186699Z",
     "iopub.status.busy": "2024-04-21T06:22:04.186034Z",
     "iopub.status.idle": "2024-04-21T06:22:04.392551Z",
     "shell.execute_reply": "2024-04-21T06:22:04.391659Z"
    },
    "papermill": {
     "duration": 0.250287,
     "end_time": "2024-04-21T06:22:04.394650",
     "exception": false,
     "start_time": "2024-04-21T06:22:04.144363",
     "status": "completed"
    },
    "tags": []
   },
   "outputs": [
    {
     "data": {
      "image/png": "[encoded data removed]",
      "text/plain": [
       "<Figure size 640x480 with 2 Axes>"
      ]
     },
     "metadata": {},
     "output_type": "display_data"
    }
   ],
   "source": [
    "sns.heatmap(cf_rf,annot=True,cmap=\"viridis\",linewidth=1,linecolor=\"orange\",fmt=\"d\")\n",
    "plt.xlabel(\"Predicted\")\n",
    "plt.ylabel(\"Actual\")\n",
    "plt.show()"
   ]
  },
  {
   "cell_type": "code",
   "execution_count": 94,
   "id": "537f5f83",
   "metadata": {
    "execution": {
     "iopub.execute_input": "2024-04-21T06:22:04.478171Z",
     "iopub.status.busy": "2024-04-21T06:22:04.477446Z",
     "iopub.status.idle": "2024-04-21T06:22:04.497047Z",
     "shell.execute_reply": "2024-04-21T06:22:04.495861Z"
    },
    "papermill": {
     "duration": 0.063632,
     "end_time": "2024-04-21T06:22:04.499473",
     "exception": false,
     "start_time": "2024-04-21T06:22:04.435841",
     "status": "completed"
    },
    "tags": []
   },
   "outputs": [
    {
     "data": {
      "text/html": [
       "<div>\n",
       "<style scoped>\n",
       "    .dataframe tbody tr th:only-of-type {\n",
       "        vertical-align: middle;\n",
       "    }\n",
       "\n",
       "    .dataframe tbody tr th {\n",
       "        vertical-align: top;\n",
       "    }\n",
       "\n",
       "    .dataframe thead th {\n",
       "        text-align: right;\n",
       "    }\n",
       "</style>\n",
       "<table border=\"1\" class=\"dataframe\">\n",
       "  <thead>\n",
       "    <tr style=\"text-align: right;\">\n",
       "      <th></th>\n",
       "      <th>0</th>\n",
       "      <th>1</th>\n",
       "      <th>accuracy</th>\n",
       "      <th>macro avg</th>\n",
       "      <th>weighted avg</th>\n",
       "    </tr>\n",
       "  </thead>\n",
       "  <tbody>\n",
       "    <tr>\n",
       "      <th>precision</th>\n",
       "      <td>0.885246</td>\n",
       "      <td>0.813333</td>\n",
       "      <td>0.845588</td>\n",
       "      <td>0.849290</td>\n",
       "      <td>0.849290</td>\n",
       "    </tr>\n",
       "    <tr>\n",
       "      <th>recall</th>\n",
       "      <td>0.794118</td>\n",
       "      <td>0.897059</td>\n",
       "      <td>0.845588</td>\n",
       "      <td>0.845588</td>\n",
       "      <td>0.845588</td>\n",
       "    </tr>\n",
       "    <tr>\n",
       "      <th>f1-score</th>\n",
       "      <td>0.837209</td>\n",
       "      <td>0.853147</td>\n",
       "      <td>0.845588</td>\n",
       "      <td>0.845178</td>\n",
       "      <td>0.845178</td>\n",
       "    </tr>\n",
       "    <tr>\n",
       "      <th>support</th>\n",
       "      <td>68.000000</td>\n",
       "      <td>68.000000</td>\n",
       "      <td>0.845588</td>\n",
       "      <td>136.000000</td>\n",
       "      <td>136.000000</td>\n",
       "    </tr>\n",
       "  </tbody>\n",
       "</table>\n",
       "</div>"
      ],
      "text/plain": [
       "                   0          1  accuracy   macro avg  weighted avg\n",
       "precision   0.885246   0.813333  0.845588    0.849290      0.849290\n",
       "recall      0.794118   0.897059  0.845588    0.845588      0.845588\n",
       "f1-score    0.837209   0.853147  0.845588    0.845178      0.845178\n",
       "support    68.000000  68.000000  0.845588  136.000000    136.000000"
      ]
     },
     "execution_count": 94,
     "metadata": {},
     "output_type": "execute_result"
    }
   ],
   "source": [
    "report_dict_rf = classification_report(y_test,y_rf_test_pred,output_dict=True)\n",
    "report_df_rf = pd.DataFrame(report_dict_rf)\n",
    "report_df_rf"
   ]
  },
  {
   "cell_type": "markdown",
   "id": "14bc6c94",
   "metadata": {
    "papermill": {
     "duration": 0.040727,
     "end_time": "2024-04-21T06:22:04.581814",
     "exception": false,
     "start_time": "2024-04-21T06:22:04.541087",
     "status": "completed"
    },
    "tags": []
   },
   "source": [
    "* Both accuracy and f1 score came higher in random forest compared to logistic regression "
   ]
  },
  {
   "cell_type": "code",
   "execution_count": null,
   "id": "40afdac3",
   "metadata": {
    "papermill": {
     "duration": 0.041642,
     "end_time": "2024-04-21T06:22:04.665348",
     "exception": false,
     "start_time": "2024-04-21T06:22:04.623706",
     "status": "completed"
    },
    "tags": []
   },
   "outputs": [],
   "source": []
  }
 ],
 "metadata": {
  "kaggle": {
   "accelerator": "none",
   "dataSources": [
    {
     "datasetId": 4390452,
     "sourceId": 7539897,
     "sourceType": "datasetVersion"
    }
   ],
   "dockerImageVersionId": 30646,
   "isGpuEnabled": false,
   "isInternetEnabled": false,
   "language": "python",
   "sourceType": "notebook"
  },
  "kernelspec": {
   "display_name": "Python 3",
   "language": "python",
   "name": "python3"
  },
  "language_info": {
   "codemirror_mode": {
    "name": "ipython",
    "version": 3
   },
   "file_extension": ".py",
   "mimetype": "text/x-python",
   "name": "python",
   "nbconvert_exporter": "python",
   "pygments_lexer": "ipython3",
   "version": "3.10.13"
  },
  "papermill": {
   "default_parameters": {},
   "duration": 24.713452,
   "end_time": "2024-04-21T06:22:05.428057",
   "environment_variables": {},
   "exception": null,
   "input_path": "__notebook__.ipynb",
   "output_path": "__notebook__.ipynb",
   "parameters": {},
   "start_time": "2024-04-21T06:21:40.714605",
   "version": "2.5.0"
  }
 },
 "nbformat": 4,
 "nbformat_minor": 5
}
